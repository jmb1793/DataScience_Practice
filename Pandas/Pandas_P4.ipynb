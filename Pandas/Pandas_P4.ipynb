{
  "nbformat": 4,
  "nbformat_minor": 0,
  "metadata": {
    "colab": {
      "name": "Pandas_P4.ipynb",
      "provenance": [],
      "collapsed_sections": []
    },
    "kernelspec": {
      "name": "python3",
      "display_name": "Python 3"
    },
    "language_info": {
      "name": "python"
    }
  },
  "cells": [
    {
      "cell_type": "code",
      "metadata": {
        "id": "2HMPWOB8n5Bc"
      },
      "source": [
        "import pandas as pd\n",
        "import numpy as np"
      ],
      "execution_count": 1,
      "outputs": []
    },
    {
      "cell_type": "markdown",
      "metadata": {
        "id": "hNAQmw8PuuoY"
      },
      "source": [
        "# The DataFrame Object"
      ]
    },
    {
      "cell_type": "markdown",
      "metadata": {
        "id": "ZU81wEe8uurk"
      },
      "source": [
        "- Instantiating a DataFrame object from a dictionary and a numpy ndarray\n",
        "- Importing a multidimensional dataset with the read_csv method\n",
        "- Sorting one or more columns in a DataFrame\n",
        "- Accessing rows and columns from a DataFrame\n",
        "- Setting and resetting the index of a DataFrame\n",
        "- Renaming column and index values"
      ]
    },
    {
      "cell_type": "code",
      "metadata": {
        "id": "Zr99DGczoZ4Z"
      },
      "source": [
        "#Import the links for the datasets used\n",
        "nba_url = \"https://raw.githubusercontent.com/paskhaver/pandas-in-action/master/chapter_04_the_dataframe_object/nba.csv\"\n",
        "nfl_url = \"https://raw.githubusercontent.com/paskhaver/pandas-in-action/master/chapter_04_the_dataframe_object/nfl.csv\"\n"
      ],
      "execution_count": 2,
      "outputs": []
    },
    {
      "cell_type": "markdown",
      "metadata": {
        "id": "4eeBSAvtuuun"
      },
      "source": [
        "## Creating a DF from a dictionary"
      ]
    },
    {
      "cell_type": "code",
      "metadata": {
        "colab": {
          "base_uri": "https://localhost:8080/",
          "height": 204
        },
        "id": "BRsXe8s3oTth",
        "outputId": "de082c4b-2ca0-46b6-b627-3909da1059ff"
      },
      "source": [
        "#First Create a dictionary, where the keys will be the features\n",
        "#And the values will be observations\n",
        "#For This example I will create a sample set of my favorite games\n",
        "\n",
        "game_favorites = {\n",
        "    \"Title\": [\"Zelda\",\"Paper Mario\",\"Pokemon\",\"Final Fantasy 7\",\"Kingdom Hearts\"],\n",
        "    \"Main Character\": [\"Link\",\"Mario\",\"Pikachu\",\"Cloud\",\"Sora\"],\n",
        "    \"Rating\": [5,4,4,4.5,5]\n",
        "}\n",
        "game_favorites_df = pd.DataFrame(game_favorites)\n",
        "game_favorites_df"
      ],
      "execution_count": 3,
      "outputs": [
        {
          "output_type": "execute_result",
          "data": {
            "text/html": [
              "<div>\n",
              "<style scoped>\n",
              "    .dataframe tbody tr th:only-of-type {\n",
              "        vertical-align: middle;\n",
              "    }\n",
              "\n",
              "    .dataframe tbody tr th {\n",
              "        vertical-align: top;\n",
              "    }\n",
              "\n",
              "    .dataframe thead th {\n",
              "        text-align: right;\n",
              "    }\n",
              "</style>\n",
              "<table border=\"1\" class=\"dataframe\">\n",
              "  <thead>\n",
              "    <tr style=\"text-align: right;\">\n",
              "      <th></th>\n",
              "      <th>Title</th>\n",
              "      <th>Main Character</th>\n",
              "      <th>Rating</th>\n",
              "    </tr>\n",
              "  </thead>\n",
              "  <tbody>\n",
              "    <tr>\n",
              "      <th>0</th>\n",
              "      <td>Zelda</td>\n",
              "      <td>Link</td>\n",
              "      <td>5.0</td>\n",
              "    </tr>\n",
              "    <tr>\n",
              "      <th>1</th>\n",
              "      <td>Paper Mario</td>\n",
              "      <td>Mario</td>\n",
              "      <td>4.0</td>\n",
              "    </tr>\n",
              "    <tr>\n",
              "      <th>2</th>\n",
              "      <td>Pokemon</td>\n",
              "      <td>Pikachu</td>\n",
              "      <td>4.0</td>\n",
              "    </tr>\n",
              "    <tr>\n",
              "      <th>3</th>\n",
              "      <td>Final Fantasy 7</td>\n",
              "      <td>Cloud</td>\n",
              "      <td>4.5</td>\n",
              "    </tr>\n",
              "    <tr>\n",
              "      <th>4</th>\n",
              "      <td>Kingdom Hearts</td>\n",
              "      <td>Sora</td>\n",
              "      <td>5.0</td>\n",
              "    </tr>\n",
              "  </tbody>\n",
              "</table>\n",
              "</div>"
            ],
            "text/plain": [
              "             Title Main Character  Rating\n",
              "0            Zelda           Link     5.0\n",
              "1      Paper Mario          Mario     4.0\n",
              "2          Pokemon        Pikachu     4.0\n",
              "3  Final Fantasy 7          Cloud     4.5\n",
              "4   Kingdom Hearts           Sora     5.0"
            ]
          },
          "metadata": {},
          "execution_count": 3
        }
      ]
    },
    {
      "cell_type": "markdown",
      "metadata": {
        "id": "sd_aVHHsuu1R"
      },
      "source": [
        "### Create a DataFrame from Numpy dArray"
      ]
    },
    {
      "cell_type": "code",
      "metadata": {
        "colab": {
          "base_uri": "https://localhost:8080/"
        },
        "id": "7ydjU2Z2373l",
        "outputId": "a06d832a-6e76-4323-9bc7-6fd124795090"
      },
      "source": [
        "#First Create a ndarray with a shape of 3x5 \n",
        "data = np.random.randint(1,101,[3,5])\n",
        "data"
      ],
      "execution_count": 4,
      "outputs": [
        {
          "output_type": "execute_result",
          "data": {
            "text/plain": [
              "array([[36, 49, 66, 17, 71],\n",
              "       [88, 56,  6, 50, 17],\n",
              "       [75, 92, 99, 10, 75]])"
            ]
          },
          "metadata": {},
          "execution_count": 4
        }
      ]
    },
    {
      "cell_type": "code",
      "metadata": {
        "colab": {
          "base_uri": "https://localhost:8080/",
          "height": 142
        },
        "id": "Z9a6Uqil4AhH",
        "outputId": "158eeeed-85b8-4922-8b0c-8547890bea6d"
      },
      "source": [
        "#Then pass it into pandas\n",
        "pd.DataFrame(data=data)"
      ],
      "execution_count": 5,
      "outputs": [
        {
          "output_type": "execute_result",
          "data": {
            "text/html": [
              "<div>\n",
              "<style scoped>\n",
              "    .dataframe tbody tr th:only-of-type {\n",
              "        vertical-align: middle;\n",
              "    }\n",
              "\n",
              "    .dataframe tbody tr th {\n",
              "        vertical-align: top;\n",
              "    }\n",
              "\n",
              "    .dataframe thead th {\n",
              "        text-align: right;\n",
              "    }\n",
              "</style>\n",
              "<table border=\"1\" class=\"dataframe\">\n",
              "  <thead>\n",
              "    <tr style=\"text-align: right;\">\n",
              "      <th></th>\n",
              "      <th>0</th>\n",
              "      <th>1</th>\n",
              "      <th>2</th>\n",
              "      <th>3</th>\n",
              "      <th>4</th>\n",
              "    </tr>\n",
              "  </thead>\n",
              "  <tbody>\n",
              "    <tr>\n",
              "      <th>0</th>\n",
              "      <td>36</td>\n",
              "      <td>49</td>\n",
              "      <td>66</td>\n",
              "      <td>17</td>\n",
              "      <td>71</td>\n",
              "    </tr>\n",
              "    <tr>\n",
              "      <th>1</th>\n",
              "      <td>88</td>\n",
              "      <td>56</td>\n",
              "      <td>6</td>\n",
              "      <td>50</td>\n",
              "      <td>17</td>\n",
              "    </tr>\n",
              "    <tr>\n",
              "      <th>2</th>\n",
              "      <td>75</td>\n",
              "      <td>92</td>\n",
              "      <td>99</td>\n",
              "      <td>10</td>\n",
              "      <td>75</td>\n",
              "    </tr>\n",
              "  </tbody>\n",
              "</table>\n",
              "</div>"
            ],
            "text/plain": [
              "    0   1   2   3   4\n",
              "0  36  49  66  17  71\n",
              "1  88  56   6  50  17\n",
              "2  75  92  99  10  75"
            ]
          },
          "metadata": {},
          "execution_count": 5
        }
      ]
    },
    {
      "cell_type": "code",
      "metadata": {
        "colab": {
          "base_uri": "https://localhost:8080/",
          "height": 142
        },
        "id": "W1pHfio04Pu2",
        "outputId": "9b2c61be-74a1-4524-aac2-5477e8ca49e1"
      },
      "source": [
        "#Can edit/modify the index and columns by passing in values\n",
        "index = [\"Morning\",\"Afternoon\",\"Evening\"]\n",
        "columns = [\"Monday\",\"Tuesday\",\"Wednesday\",\"Thursday\",\"Friday\"]\n",
        "temperatures = pd.DataFrame(data=data,\n",
        "                            index=index,\n",
        "                            columns=columns)\n",
        "temperatures"
      ],
      "execution_count": 6,
      "outputs": [
        {
          "output_type": "execute_result",
          "data": {
            "text/html": [
              "<div>\n",
              "<style scoped>\n",
              "    .dataframe tbody tr th:only-of-type {\n",
              "        vertical-align: middle;\n",
              "    }\n",
              "\n",
              "    .dataframe tbody tr th {\n",
              "        vertical-align: top;\n",
              "    }\n",
              "\n",
              "    .dataframe thead th {\n",
              "        text-align: right;\n",
              "    }\n",
              "</style>\n",
              "<table border=\"1\" class=\"dataframe\">\n",
              "  <thead>\n",
              "    <tr style=\"text-align: right;\">\n",
              "      <th></th>\n",
              "      <th>Monday</th>\n",
              "      <th>Tuesday</th>\n",
              "      <th>Wednesday</th>\n",
              "      <th>Thursday</th>\n",
              "      <th>Friday</th>\n",
              "    </tr>\n",
              "  </thead>\n",
              "  <tbody>\n",
              "    <tr>\n",
              "      <th>Morning</th>\n",
              "      <td>36</td>\n",
              "      <td>49</td>\n",
              "      <td>66</td>\n",
              "      <td>17</td>\n",
              "      <td>71</td>\n",
              "    </tr>\n",
              "    <tr>\n",
              "      <th>Afternoon</th>\n",
              "      <td>88</td>\n",
              "      <td>56</td>\n",
              "      <td>6</td>\n",
              "      <td>50</td>\n",
              "      <td>17</td>\n",
              "    </tr>\n",
              "    <tr>\n",
              "      <th>Evening</th>\n",
              "      <td>75</td>\n",
              "      <td>92</td>\n",
              "      <td>99</td>\n",
              "      <td>10</td>\n",
              "      <td>75</td>\n",
              "    </tr>\n",
              "  </tbody>\n",
              "</table>\n",
              "</div>"
            ],
            "text/plain": [
              "           Monday  Tuesday  Wednesday  Thursday  Friday\n",
              "Morning        36       49         66        17      71\n",
              "Afternoon      88       56          6        50      17\n",
              "Evening        75       92         99        10      75"
            ]
          },
          "metadata": {},
          "execution_count": 6
        }
      ]
    },
    {
      "cell_type": "code",
      "metadata": {
        "colab": {
          "base_uri": "https://localhost:8080/",
          "height": 204
        },
        "id": "SFYsFC144hip",
        "outputId": "119e7156-31b7-4134-d369-bf545972632f"
      },
      "source": [
        "#import the dataset for nfl into a dataframe\n",
        "nba = pd.read_csv(nba_url)\n",
        "nba.head()"
      ],
      "execution_count": 7,
      "outputs": [
        {
          "output_type": "execute_result",
          "data": {
            "text/html": [
              "<div>\n",
              "<style scoped>\n",
              "    .dataframe tbody tr th:only-of-type {\n",
              "        vertical-align: middle;\n",
              "    }\n",
              "\n",
              "    .dataframe tbody tr th {\n",
              "        vertical-align: top;\n",
              "    }\n",
              "\n",
              "    .dataframe thead th {\n",
              "        text-align: right;\n",
              "    }\n",
              "</style>\n",
              "<table border=\"1\" class=\"dataframe\">\n",
              "  <thead>\n",
              "    <tr style=\"text-align: right;\">\n",
              "      <th></th>\n",
              "      <th>Name</th>\n",
              "      <th>Team</th>\n",
              "      <th>Position</th>\n",
              "      <th>Birthday</th>\n",
              "      <th>Salary</th>\n",
              "    </tr>\n",
              "  </thead>\n",
              "  <tbody>\n",
              "    <tr>\n",
              "      <th>0</th>\n",
              "      <td>Shake Milton</td>\n",
              "      <td>Philadelphia 76ers</td>\n",
              "      <td>SG</td>\n",
              "      <td>9/26/96</td>\n",
              "      <td>1445697</td>\n",
              "    </tr>\n",
              "    <tr>\n",
              "      <th>1</th>\n",
              "      <td>Christian Wood</td>\n",
              "      <td>Detroit Pistons</td>\n",
              "      <td>PF</td>\n",
              "      <td>9/27/95</td>\n",
              "      <td>1645357</td>\n",
              "    </tr>\n",
              "    <tr>\n",
              "      <th>2</th>\n",
              "      <td>PJ Washington</td>\n",
              "      <td>Charlotte Hornets</td>\n",
              "      <td>PF</td>\n",
              "      <td>8/23/98</td>\n",
              "      <td>3831840</td>\n",
              "    </tr>\n",
              "    <tr>\n",
              "      <th>3</th>\n",
              "      <td>Derrick Rose</td>\n",
              "      <td>Detroit Pistons</td>\n",
              "      <td>PG</td>\n",
              "      <td>10/4/88</td>\n",
              "      <td>7317074</td>\n",
              "    </tr>\n",
              "    <tr>\n",
              "      <th>4</th>\n",
              "      <td>Marial Shayok</td>\n",
              "      <td>Philadelphia 76ers</td>\n",
              "      <td>G</td>\n",
              "      <td>7/26/95</td>\n",
              "      <td>79568</td>\n",
              "    </tr>\n",
              "  </tbody>\n",
              "</table>\n",
              "</div>"
            ],
            "text/plain": [
              "             Name                Team Position Birthday   Salary\n",
              "0    Shake Milton  Philadelphia 76ers       SG  9/26/96  1445697\n",
              "1  Christian Wood     Detroit Pistons       PF  9/27/95  1645357\n",
              "2   PJ Washington   Charlotte Hornets       PF  8/23/98  3831840\n",
              "3    Derrick Rose     Detroit Pistons       PG  10/4/88  7317074\n",
              "4   Marial Shayok  Philadelphia 76ers        G  7/26/95    79568"
            ]
          },
          "metadata": {},
          "execution_count": 7
        }
      ]
    },
    {
      "cell_type": "code",
      "metadata": {
        "id": "v4kKNqdDowWG",
        "colab": {
          "base_uri": "https://localhost:8080/",
          "height": 204
        },
        "outputId": "3e28ca13-619a-4ce8-bc4f-8d9ef6887dbd"
      },
      "source": [
        "#There are dates in the table that are in string format\n",
        "#Pass the parameter parse_dates=[\"Birthday\"] to reformat to datetime\n",
        "nba = pd.read_csv(nba_url, parse_dates=[\"Birthday\"])\n",
        "nba.head()"
      ],
      "execution_count": 8,
      "outputs": [
        {
          "output_type": "execute_result",
          "data": {
            "text/html": [
              "<div>\n",
              "<style scoped>\n",
              "    .dataframe tbody tr th:only-of-type {\n",
              "        vertical-align: middle;\n",
              "    }\n",
              "\n",
              "    .dataframe tbody tr th {\n",
              "        vertical-align: top;\n",
              "    }\n",
              "\n",
              "    .dataframe thead th {\n",
              "        text-align: right;\n",
              "    }\n",
              "</style>\n",
              "<table border=\"1\" class=\"dataframe\">\n",
              "  <thead>\n",
              "    <tr style=\"text-align: right;\">\n",
              "      <th></th>\n",
              "      <th>Name</th>\n",
              "      <th>Team</th>\n",
              "      <th>Position</th>\n",
              "      <th>Birthday</th>\n",
              "      <th>Salary</th>\n",
              "    </tr>\n",
              "  </thead>\n",
              "  <tbody>\n",
              "    <tr>\n",
              "      <th>0</th>\n",
              "      <td>Shake Milton</td>\n",
              "      <td>Philadelphia 76ers</td>\n",
              "      <td>SG</td>\n",
              "      <td>1996-09-26</td>\n",
              "      <td>1445697</td>\n",
              "    </tr>\n",
              "    <tr>\n",
              "      <th>1</th>\n",
              "      <td>Christian Wood</td>\n",
              "      <td>Detroit Pistons</td>\n",
              "      <td>PF</td>\n",
              "      <td>1995-09-27</td>\n",
              "      <td>1645357</td>\n",
              "    </tr>\n",
              "    <tr>\n",
              "      <th>2</th>\n",
              "      <td>PJ Washington</td>\n",
              "      <td>Charlotte Hornets</td>\n",
              "      <td>PF</td>\n",
              "      <td>1998-08-23</td>\n",
              "      <td>3831840</td>\n",
              "    </tr>\n",
              "    <tr>\n",
              "      <th>3</th>\n",
              "      <td>Derrick Rose</td>\n",
              "      <td>Detroit Pistons</td>\n",
              "      <td>PG</td>\n",
              "      <td>1988-10-04</td>\n",
              "      <td>7317074</td>\n",
              "    </tr>\n",
              "    <tr>\n",
              "      <th>4</th>\n",
              "      <td>Marial Shayok</td>\n",
              "      <td>Philadelphia 76ers</td>\n",
              "      <td>G</td>\n",
              "      <td>1995-07-26</td>\n",
              "      <td>79568</td>\n",
              "    </tr>\n",
              "  </tbody>\n",
              "</table>\n",
              "</div>"
            ],
            "text/plain": [
              "             Name                Team Position   Birthday   Salary\n",
              "0    Shake Milton  Philadelphia 76ers       SG 1996-09-26  1445697\n",
              "1  Christian Wood     Detroit Pistons       PF 1995-09-27  1645357\n",
              "2   PJ Washington   Charlotte Hornets       PF 1998-08-23  3831840\n",
              "3    Derrick Rose     Detroit Pistons       PG 1988-10-04  7317074\n",
              "4   Marial Shayok  Philadelphia 76ers        G 1995-07-26    79568"
            ]
          },
          "metadata": {},
          "execution_count": 8
        }
      ]
    },
    {
      "cell_type": "code",
      "metadata": {
        "colab": {
          "base_uri": "https://localhost:8080/"
        },
        "id": "3FNSgNLk2txC",
        "outputId": "3381e3b4-ca4b-454b-b9e0-94bcf49934e0"
      },
      "source": [
        "#Check the types within the dataframe\n",
        "#strings are labelled as objects\n",
        "nba.dtypes"
      ],
      "execution_count": 9,
      "outputs": [
        {
          "output_type": "execute_result",
          "data": {
            "text/plain": [
              "Name                object\n",
              "Team                object\n",
              "Position            object\n",
              "Birthday    datetime64[ns]\n",
              "Salary               int64\n",
              "dtype: object"
            ]
          },
          "metadata": {},
          "execution_count": 9
        }
      ]
    },
    {
      "cell_type": "code",
      "metadata": {
        "colab": {
          "base_uri": "https://localhost:8080/"
        },
        "id": "YyrcRg_h3RVY",
        "outputId": "077d1153-55de-4ae3-fe33-24e9e91fe614"
      },
      "source": [
        "#To preview values within the dataframe, each rows attributes, use property\n",
        "nba.values"
      ],
      "execution_count": 10,
      "outputs": [
        {
          "output_type": "execute_result",
          "data": {
            "text/plain": [
              "array([['Shake Milton', 'Philadelphia 76ers', 'SG',\n",
              "        Timestamp('1996-09-26 00:00:00'), 1445697],\n",
              "       ['Christian Wood', 'Detroit Pistons', 'PF',\n",
              "        Timestamp('1995-09-27 00:00:00'), 1645357],\n",
              "       ['PJ Washington', 'Charlotte Hornets', 'PF',\n",
              "        Timestamp('1998-08-23 00:00:00'), 3831840],\n",
              "       ...,\n",
              "       ['Robin Lopez', 'Milwaukee Bucks', 'C',\n",
              "        Timestamp('1988-04-01 00:00:00'), 4767000],\n",
              "       ['Collin Sexton', 'Cleveland Cavaliers', 'PG',\n",
              "        Timestamp('1999-01-04 00:00:00'), 4764960],\n",
              "       ['Ricky Rubio', 'Phoenix Suns', 'PG',\n",
              "        Timestamp('1990-10-21 00:00:00'), 16200000]], dtype=object)"
            ]
          },
          "metadata": {},
          "execution_count": 10
        }
      ]
    },
    {
      "cell_type": "code",
      "metadata": {
        "colab": {
          "base_uri": "https://localhost:8080/"
        },
        "id": "iCHJsCHz3py3",
        "outputId": "c17cb667-77cb-48a7-d94d-b88def040d2d"
      },
      "source": [
        "#To examine the titles, or column headers use property\n",
        "nba.columns"
      ],
      "execution_count": 11,
      "outputs": [
        {
          "output_type": "execute_result",
          "data": {
            "text/plain": [
              "Index(['Name', 'Team', 'Position', 'Birthday', 'Salary'], dtype='object')"
            ]
          },
          "metadata": {},
          "execution_count": 11
        }
      ]
    },
    {
      "cell_type": "code",
      "metadata": {
        "colab": {
          "base_uri": "https://localhost:8080/"
        },
        "id": "IvQKn9pDJXQT",
        "outputId": "e149f483-f370-4e7a-ef7f-01b715b74e02"
      },
      "source": [
        "#To retrieve both the index values and columns use property\n",
        "nba.axes"
      ],
      "execution_count": 12,
      "outputs": [
        {
          "output_type": "execute_result",
          "data": {
            "text/plain": [
              "[RangeIndex(start=0, stop=450, step=1),\n",
              " Index(['Name', 'Team', 'Position', 'Birthday', 'Salary'], dtype='object')]"
            ]
          },
          "metadata": {},
          "execution_count": 12
        }
      ]
    },
    {
      "cell_type": "code",
      "metadata": {
        "colab": {
          "base_uri": "https://localhost:8080/"
        },
        "id": "mqYfL5XyJYZZ",
        "outputId": "13912709-c563-40c1-f28f-0b1b75043aa6"
      },
      "source": [
        "#To see how many rows of non-null values are in the dataframe use method\n",
        "nba.count()"
      ],
      "execution_count": 13,
      "outputs": [
        {
          "output_type": "execute_result",
          "data": {
            "text/plain": [
              "Name        450\n",
              "Team        450\n",
              "Position    450\n",
              "Birthday    450\n",
              "Salary      450\n",
              "dtype: int64"
            ]
          },
          "metadata": {},
          "execution_count": 13
        }
      ]
    },
    {
      "cell_type": "code",
      "metadata": {
        "colab": {
          "base_uri": "https://localhost:8080/",
          "height": 204
        },
        "id": "yUtrUnMLLWy3",
        "outputId": "5756bbd6-48f2-41c0-cea9-2eaebbe549ef"
      },
      "source": [
        "#To retrieve a sample of data, of a set size, use .sample(n)\n",
        "nba.sample(5)"
      ],
      "execution_count": 14,
      "outputs": [
        {
          "output_type": "execute_result",
          "data": {
            "text/html": [
              "<div>\n",
              "<style scoped>\n",
              "    .dataframe tbody tr th:only-of-type {\n",
              "        vertical-align: middle;\n",
              "    }\n",
              "\n",
              "    .dataframe tbody tr th {\n",
              "        vertical-align: top;\n",
              "    }\n",
              "\n",
              "    .dataframe thead th {\n",
              "        text-align: right;\n",
              "    }\n",
              "</style>\n",
              "<table border=\"1\" class=\"dataframe\">\n",
              "  <thead>\n",
              "    <tr style=\"text-align: right;\">\n",
              "      <th></th>\n",
              "      <th>Name</th>\n",
              "      <th>Team</th>\n",
              "      <th>Position</th>\n",
              "      <th>Birthday</th>\n",
              "      <th>Salary</th>\n",
              "    </tr>\n",
              "  </thead>\n",
              "  <tbody>\n",
              "    <tr>\n",
              "      <th>319</th>\n",
              "      <td>Zach Collins</td>\n",
              "      <td>Portland Trail Blazers</td>\n",
              "      <td>C</td>\n",
              "      <td>1997-11-19</td>\n",
              "      <td>4240200</td>\n",
              "    </tr>\n",
              "    <tr>\n",
              "      <th>340</th>\n",
              "      <td>Carsen Edwards</td>\n",
              "      <td>Boston Celtics</td>\n",
              "      <td>SG</td>\n",
              "      <td>1998-03-12</td>\n",
              "      <td>1228026</td>\n",
              "    </tr>\n",
              "    <tr>\n",
              "      <th>0</th>\n",
              "      <td>Shake Milton</td>\n",
              "      <td>Philadelphia 76ers</td>\n",
              "      <td>SG</td>\n",
              "      <td>1996-09-26</td>\n",
              "      <td>1445697</td>\n",
              "    </tr>\n",
              "    <tr>\n",
              "      <th>306</th>\n",
              "      <td>Wayne Ellington</td>\n",
              "      <td>New York Knicks</td>\n",
              "      <td>SG</td>\n",
              "      <td>1987-11-29</td>\n",
              "      <td>8000000</td>\n",
              "    </tr>\n",
              "    <tr>\n",
              "      <th>344</th>\n",
              "      <td>Reggie Bullock</td>\n",
              "      <td>New York Knicks</td>\n",
              "      <td>SF</td>\n",
              "      <td>1991-03-16</td>\n",
              "      <td>4000000</td>\n",
              "    </tr>\n",
              "  </tbody>\n",
              "</table>\n",
              "</div>"
            ],
            "text/plain": [
              "                Name                    Team Position   Birthday   Salary\n",
              "319     Zach Collins  Portland Trail Blazers        C 1997-11-19  4240200\n",
              "340   Carsen Edwards          Boston Celtics       SG 1998-03-12  1228026\n",
              "0       Shake Milton      Philadelphia 76ers       SG 1996-09-26  1445697\n",
              "306  Wayne Ellington         New York Knicks       SG 1987-11-29  8000000\n",
              "344   Reggie Bullock         New York Knicks       SF 1991-03-16  4000000"
            ]
          },
          "metadata": {},
          "execution_count": 14
        }
      ]
    },
    {
      "cell_type": "code",
      "metadata": {
        "colab": {
          "base_uri": "https://localhost:8080/"
        },
        "id": "Dlz1jAqHLc2M",
        "outputId": "1b588ece-446d-4234-ac01-fd36eb50e041"
      },
      "source": [
        "#to retrieve the amount of unique values of each property, use .nunique()\n",
        "nba.nunique()"
      ],
      "execution_count": 15,
      "outputs": [
        {
          "output_type": "execute_result",
          "data": {
            "text/plain": [
              "Name        450\n",
              "Team         30\n",
              "Position      9\n",
              "Birthday    430\n",
              "Salary      269\n",
              "dtype: int64"
            ]
          },
          "metadata": {},
          "execution_count": 15
        }
      ]
    },
    {
      "cell_type": "code",
      "metadata": {
        "colab": {
          "base_uri": "https://localhost:8080/",
          "height": 204
        },
        "id": "mK1lX1vTLiWs",
        "outputId": "7f18c393-4933-4be4-b09e-305cfb5f8eab"
      },
      "source": [
        "#to retrieve rows with highest value of a certain attribute\n",
        "#use method .nlargest(n,columns=column_name) \n",
        "#Where column_name is the column you want to find largest of\n",
        "nba.nlargest(5,columns=\"Salary\")"
      ],
      "execution_count": 16,
      "outputs": [
        {
          "output_type": "execute_result",
          "data": {
            "text/html": [
              "<div>\n",
              "<style scoped>\n",
              "    .dataframe tbody tr th:only-of-type {\n",
              "        vertical-align: middle;\n",
              "    }\n",
              "\n",
              "    .dataframe tbody tr th {\n",
              "        vertical-align: top;\n",
              "    }\n",
              "\n",
              "    .dataframe thead th {\n",
              "        text-align: right;\n",
              "    }\n",
              "</style>\n",
              "<table border=\"1\" class=\"dataframe\">\n",
              "  <thead>\n",
              "    <tr style=\"text-align: right;\">\n",
              "      <th></th>\n",
              "      <th>Name</th>\n",
              "      <th>Team</th>\n",
              "      <th>Position</th>\n",
              "      <th>Birthday</th>\n",
              "      <th>Salary</th>\n",
              "    </tr>\n",
              "  </thead>\n",
              "  <tbody>\n",
              "    <tr>\n",
              "      <th>205</th>\n",
              "      <td>Stephen Curry</td>\n",
              "      <td>Golden State Warriors</td>\n",
              "      <td>PG</td>\n",
              "      <td>1988-03-14</td>\n",
              "      <td>40231758</td>\n",
              "    </tr>\n",
              "    <tr>\n",
              "      <th>38</th>\n",
              "      <td>Chris Paul</td>\n",
              "      <td>Oklahoma City Thunder</td>\n",
              "      <td>PG</td>\n",
              "      <td>1985-05-06</td>\n",
              "      <td>38506482</td>\n",
              "    </tr>\n",
              "    <tr>\n",
              "      <th>219</th>\n",
              "      <td>Russell Westbrook</td>\n",
              "      <td>Houston Rockets</td>\n",
              "      <td>PG</td>\n",
              "      <td>1988-11-12</td>\n",
              "      <td>38506482</td>\n",
              "    </tr>\n",
              "    <tr>\n",
              "      <th>251</th>\n",
              "      <td>John Wall</td>\n",
              "      <td>Washington Wizards</td>\n",
              "      <td>PG</td>\n",
              "      <td>1990-09-06</td>\n",
              "      <td>38199000</td>\n",
              "    </tr>\n",
              "    <tr>\n",
              "      <th>264</th>\n",
              "      <td>James Harden</td>\n",
              "      <td>Houston Rockets</td>\n",
              "      <td>PG</td>\n",
              "      <td>1989-08-26</td>\n",
              "      <td>38199000</td>\n",
              "    </tr>\n",
              "  </tbody>\n",
              "</table>\n",
              "</div>"
            ],
            "text/plain": [
              "                  Name                   Team Position   Birthday    Salary\n",
              "205      Stephen Curry  Golden State Warriors       PG 1988-03-14  40231758\n",
              "38          Chris Paul  Oklahoma City Thunder       PG 1985-05-06  38506482\n",
              "219  Russell Westbrook        Houston Rockets       PG 1988-11-12  38506482\n",
              "251          John Wall     Washington Wizards       PG 1990-09-06  38199000\n",
              "264       James Harden        Houston Rockets       PG 1989-08-26  38199000"
            ]
          },
          "metadata": {},
          "execution_count": 16
        }
      ]
    },
    {
      "cell_type": "code",
      "metadata": {
        "colab": {
          "base_uri": "https://localhost:8080/",
          "height": 204
        },
        "id": "e4cCA57oLzTF",
        "outputId": "9d253155-f154-4034-c9e2-8d58150f2acb"
      },
      "source": [
        "#Alternatively we can find smallest value, or oldest by using\n",
        "# method .nsmallest(n,columns=column_name)\n",
        "nba.nsmallest(5,\"Birthday\")"
      ],
      "execution_count": 17,
      "outputs": [
        {
          "output_type": "execute_result",
          "data": {
            "text/html": [
              "<div>\n",
              "<style scoped>\n",
              "    .dataframe tbody tr th:only-of-type {\n",
              "        vertical-align: middle;\n",
              "    }\n",
              "\n",
              "    .dataframe tbody tr th {\n",
              "        vertical-align: top;\n",
              "    }\n",
              "\n",
              "    .dataframe thead th {\n",
              "        text-align: right;\n",
              "    }\n",
              "</style>\n",
              "<table border=\"1\" class=\"dataframe\">\n",
              "  <thead>\n",
              "    <tr style=\"text-align: right;\">\n",
              "      <th></th>\n",
              "      <th>Name</th>\n",
              "      <th>Team</th>\n",
              "      <th>Position</th>\n",
              "      <th>Birthday</th>\n",
              "      <th>Salary</th>\n",
              "    </tr>\n",
              "  </thead>\n",
              "  <tbody>\n",
              "    <tr>\n",
              "      <th>98</th>\n",
              "      <td>Vince Carter</td>\n",
              "      <td>Atlanta Hawks</td>\n",
              "      <td>PF</td>\n",
              "      <td>1977-01-26</td>\n",
              "      <td>2564753</td>\n",
              "    </tr>\n",
              "    <tr>\n",
              "      <th>196</th>\n",
              "      <td>Udonis Haslem</td>\n",
              "      <td>Miami Heat</td>\n",
              "      <td>C</td>\n",
              "      <td>1980-06-09</td>\n",
              "      <td>2564753</td>\n",
              "    </tr>\n",
              "    <tr>\n",
              "      <th>262</th>\n",
              "      <td>Kyle Korver</td>\n",
              "      <td>Milwaukee Bucks</td>\n",
              "      <td>PF</td>\n",
              "      <td>1981-03-17</td>\n",
              "      <td>6004753</td>\n",
              "    </tr>\n",
              "    <tr>\n",
              "      <th>149</th>\n",
              "      <td>Tyson Chandler</td>\n",
              "      <td>Houston Rockets</td>\n",
              "      <td>C</td>\n",
              "      <td>1982-10-02</td>\n",
              "      <td>2564753</td>\n",
              "    </tr>\n",
              "    <tr>\n",
              "      <th>415</th>\n",
              "      <td>Andre Iguodala</td>\n",
              "      <td>Memphis Grizzlies</td>\n",
              "      <td>SF</td>\n",
              "      <td>1984-01-28</td>\n",
              "      <td>17185185</td>\n",
              "    </tr>\n",
              "  </tbody>\n",
              "</table>\n",
              "</div>"
            ],
            "text/plain": [
              "               Name               Team Position   Birthday    Salary\n",
              "98     Vince Carter      Atlanta Hawks       PF 1977-01-26   2564753\n",
              "196   Udonis Haslem         Miami Heat        C 1980-06-09   2564753\n",
              "262     Kyle Korver    Milwaukee Bucks       PF 1981-03-17   6004753\n",
              "149  Tyson Chandler    Houston Rockets        C 1982-10-02   2564753\n",
              "415  Andre Iguodala  Memphis Grizzlies       SF 1984-01-28  17185185"
            ]
          },
          "metadata": {},
          "execution_count": 17
        }
      ]
    },
    {
      "cell_type": "code",
      "metadata": {
        "colab": {
          "base_uri": "https://localhost:8080/"
        },
        "id": "1VimPQKnTG_Y",
        "outputId": "63df6834-4531-43f2-b735-7b5c86092ef6"
      },
      "source": [
        "#Can also use statistical methods similar to series\n",
        "#When used on a dataframe it filters for numerical value columns\n",
        "nba.mean()"
      ],
      "execution_count": 18,
      "outputs": [
        {
          "output_type": "stream",
          "name": "stderr",
          "text": [
            "/usr/local/lib/python3.7/dist-packages/ipykernel_launcher.py:3: FutureWarning: DataFrame.mean and DataFrame.median with numeric_only=None will include datetime64 and datetime64tz columns in a future version.\n",
            "  This is separate from the ipykernel package so we can avoid doing imports until\n"
          ]
        },
        {
          "output_type": "execute_result",
          "data": {
            "text/plain": [
              "Salary    7.653584e+06\n",
              "dtype: float64"
            ]
          },
          "metadata": {},
          "execution_count": 18
        }
      ]
    },
    {
      "cell_type": "markdown",
      "metadata": {
        "id": "GMKIxNQdTf8F"
      },
      "source": [
        "### Sorting DataFrame"
      ]
    },
    {
      "cell_type": "code",
      "metadata": {
        "colab": {
          "base_uri": "https://localhost:8080/",
          "height": 419
        },
        "id": "8Rsq7335TV0x",
        "outputId": "5d5d97e0-eb37-45e6-9c5b-5c5bde4ae8dc"
      },
      "source": [
        "#To sort entire dataframe (temporarily) we call method .sort_values()\n",
        "#Pass in the parameter by=column_name to sort by ascending order\n",
        "#Pass in ascending=False to sort descending\n",
        "nba.sort_values(\"Name\")"
      ],
      "execution_count": 19,
      "outputs": [
        {
          "output_type": "execute_result",
          "data": {
            "text/html": [
              "<div>\n",
              "<style scoped>\n",
              "    .dataframe tbody tr th:only-of-type {\n",
              "        vertical-align: middle;\n",
              "    }\n",
              "\n",
              "    .dataframe tbody tr th {\n",
              "        vertical-align: top;\n",
              "    }\n",
              "\n",
              "    .dataframe thead th {\n",
              "        text-align: right;\n",
              "    }\n",
              "</style>\n",
              "<table border=\"1\" class=\"dataframe\">\n",
              "  <thead>\n",
              "    <tr style=\"text-align: right;\">\n",
              "      <th></th>\n",
              "      <th>Name</th>\n",
              "      <th>Team</th>\n",
              "      <th>Position</th>\n",
              "      <th>Birthday</th>\n",
              "      <th>Salary</th>\n",
              "    </tr>\n",
              "  </thead>\n",
              "  <tbody>\n",
              "    <tr>\n",
              "      <th>52</th>\n",
              "      <td>Aaron Gordon</td>\n",
              "      <td>Orlando Magic</td>\n",
              "      <td>PF</td>\n",
              "      <td>1995-09-16</td>\n",
              "      <td>19863636</td>\n",
              "    </tr>\n",
              "    <tr>\n",
              "      <th>101</th>\n",
              "      <td>Aaron Holiday</td>\n",
              "      <td>Indiana Pacers</td>\n",
              "      <td>PG</td>\n",
              "      <td>1996-09-30</td>\n",
              "      <td>2239200</td>\n",
              "    </tr>\n",
              "    <tr>\n",
              "      <th>437</th>\n",
              "      <td>Abdel Nader</td>\n",
              "      <td>Oklahoma City Thunder</td>\n",
              "      <td>SF</td>\n",
              "      <td>1993-09-25</td>\n",
              "      <td>1618520</td>\n",
              "    </tr>\n",
              "    <tr>\n",
              "      <th>81</th>\n",
              "      <td>Adam Mokoka</td>\n",
              "      <td>Chicago Bulls</td>\n",
              "      <td>G</td>\n",
              "      <td>1998-07-18</td>\n",
              "      <td>79568</td>\n",
              "    </tr>\n",
              "    <tr>\n",
              "      <th>399</th>\n",
              "      <td>Admiral Schofield</td>\n",
              "      <td>Washington Wizards</td>\n",
              "      <td>SF</td>\n",
              "      <td>1997-03-30</td>\n",
              "      <td>1000000</td>\n",
              "    </tr>\n",
              "    <tr>\n",
              "      <th>...</th>\n",
              "      <td>...</td>\n",
              "      <td>...</td>\n",
              "      <td>...</td>\n",
              "      <td>...</td>\n",
              "      <td>...</td>\n",
              "    </tr>\n",
              "    <tr>\n",
              "      <th>159</th>\n",
              "      <td>Zach LaVine</td>\n",
              "      <td>Chicago Bulls</td>\n",
              "      <td>PG</td>\n",
              "      <td>1995-03-10</td>\n",
              "      <td>19500000</td>\n",
              "    </tr>\n",
              "    <tr>\n",
              "      <th>302</th>\n",
              "      <td>Zach Norvell</td>\n",
              "      <td>Los Angeles Lakers</td>\n",
              "      <td>SG</td>\n",
              "      <td>1997-12-09</td>\n",
              "      <td>79568</td>\n",
              "    </tr>\n",
              "    <tr>\n",
              "      <th>312</th>\n",
              "      <td>Zhaire Smith</td>\n",
              "      <td>Philadelphia 76ers</td>\n",
              "      <td>SG</td>\n",
              "      <td>1999-06-04</td>\n",
              "      <td>3058800</td>\n",
              "    </tr>\n",
              "    <tr>\n",
              "      <th>137</th>\n",
              "      <td>Zion Williamson</td>\n",
              "      <td>New Orleans Pelicans</td>\n",
              "      <td>F</td>\n",
              "      <td>2000-07-06</td>\n",
              "      <td>9757440</td>\n",
              "    </tr>\n",
              "    <tr>\n",
              "      <th>248</th>\n",
              "      <td>Zylan Cheatham</td>\n",
              "      <td>New Orleans Pelicans</td>\n",
              "      <td>SF</td>\n",
              "      <td>1995-11-17</td>\n",
              "      <td>79568</td>\n",
              "    </tr>\n",
              "  </tbody>\n",
              "</table>\n",
              "<p>450 rows × 5 columns</p>\n",
              "</div>"
            ],
            "text/plain": [
              "                  Name                   Team Position   Birthday    Salary\n",
              "52        Aaron Gordon          Orlando Magic       PF 1995-09-16  19863636\n",
              "101      Aaron Holiday         Indiana Pacers       PG 1996-09-30   2239200\n",
              "437        Abdel Nader  Oklahoma City Thunder       SF 1993-09-25   1618520\n",
              "81         Adam Mokoka          Chicago Bulls        G 1998-07-18     79568\n",
              "399  Admiral Schofield     Washington Wizards       SF 1997-03-30   1000000\n",
              "..                 ...                    ...      ...        ...       ...\n",
              "159        Zach LaVine          Chicago Bulls       PG 1995-03-10  19500000\n",
              "302       Zach Norvell     Los Angeles Lakers       SG 1997-12-09     79568\n",
              "312       Zhaire Smith     Philadelphia 76ers       SG 1999-06-04   3058800\n",
              "137    Zion Williamson   New Orleans Pelicans        F 2000-07-06   9757440\n",
              "248     Zylan Cheatham   New Orleans Pelicans       SF 1995-11-17     79568\n",
              "\n",
              "[450 rows x 5 columns]"
            ]
          },
          "metadata": {},
          "execution_count": 19
        }
      ]
    },
    {
      "cell_type": "code",
      "metadata": {
        "colab": {
          "base_uri": "https://localhost:8080/",
          "height": 419
        },
        "id": "zIa-Ov2HYqGY",
        "outputId": "accad89f-87c6-4491-8466-94c3e567634f"
      },
      "source": [
        "#Can also sort by multiple columns by passing in list of columns\n",
        "nba.sort_values(by = [\"Name\",\"Team\"])"
      ],
      "execution_count": 20,
      "outputs": [
        {
          "output_type": "execute_result",
          "data": {
            "text/html": [
              "<div>\n",
              "<style scoped>\n",
              "    .dataframe tbody tr th:only-of-type {\n",
              "        vertical-align: middle;\n",
              "    }\n",
              "\n",
              "    .dataframe tbody tr th {\n",
              "        vertical-align: top;\n",
              "    }\n",
              "\n",
              "    .dataframe thead th {\n",
              "        text-align: right;\n",
              "    }\n",
              "</style>\n",
              "<table border=\"1\" class=\"dataframe\">\n",
              "  <thead>\n",
              "    <tr style=\"text-align: right;\">\n",
              "      <th></th>\n",
              "      <th>Name</th>\n",
              "      <th>Team</th>\n",
              "      <th>Position</th>\n",
              "      <th>Birthday</th>\n",
              "      <th>Salary</th>\n",
              "    </tr>\n",
              "  </thead>\n",
              "  <tbody>\n",
              "    <tr>\n",
              "      <th>52</th>\n",
              "      <td>Aaron Gordon</td>\n",
              "      <td>Orlando Magic</td>\n",
              "      <td>PF</td>\n",
              "      <td>1995-09-16</td>\n",
              "      <td>19863636</td>\n",
              "    </tr>\n",
              "    <tr>\n",
              "      <th>101</th>\n",
              "      <td>Aaron Holiday</td>\n",
              "      <td>Indiana Pacers</td>\n",
              "      <td>PG</td>\n",
              "      <td>1996-09-30</td>\n",
              "      <td>2239200</td>\n",
              "    </tr>\n",
              "    <tr>\n",
              "      <th>437</th>\n",
              "      <td>Abdel Nader</td>\n",
              "      <td>Oklahoma City Thunder</td>\n",
              "      <td>SF</td>\n",
              "      <td>1993-09-25</td>\n",
              "      <td>1618520</td>\n",
              "    </tr>\n",
              "    <tr>\n",
              "      <th>81</th>\n",
              "      <td>Adam Mokoka</td>\n",
              "      <td>Chicago Bulls</td>\n",
              "      <td>G</td>\n",
              "      <td>1998-07-18</td>\n",
              "      <td>79568</td>\n",
              "    </tr>\n",
              "    <tr>\n",
              "      <th>399</th>\n",
              "      <td>Admiral Schofield</td>\n",
              "      <td>Washington Wizards</td>\n",
              "      <td>SF</td>\n",
              "      <td>1997-03-30</td>\n",
              "      <td>1000000</td>\n",
              "    </tr>\n",
              "    <tr>\n",
              "      <th>...</th>\n",
              "      <td>...</td>\n",
              "      <td>...</td>\n",
              "      <td>...</td>\n",
              "      <td>...</td>\n",
              "      <td>...</td>\n",
              "    </tr>\n",
              "    <tr>\n",
              "      <th>159</th>\n",
              "      <td>Zach LaVine</td>\n",
              "      <td>Chicago Bulls</td>\n",
              "      <td>PG</td>\n",
              "      <td>1995-03-10</td>\n",
              "      <td>19500000</td>\n",
              "    </tr>\n",
              "    <tr>\n",
              "      <th>302</th>\n",
              "      <td>Zach Norvell</td>\n",
              "      <td>Los Angeles Lakers</td>\n",
              "      <td>SG</td>\n",
              "      <td>1997-12-09</td>\n",
              "      <td>79568</td>\n",
              "    </tr>\n",
              "    <tr>\n",
              "      <th>312</th>\n",
              "      <td>Zhaire Smith</td>\n",
              "      <td>Philadelphia 76ers</td>\n",
              "      <td>SG</td>\n",
              "      <td>1999-06-04</td>\n",
              "      <td>3058800</td>\n",
              "    </tr>\n",
              "    <tr>\n",
              "      <th>137</th>\n",
              "      <td>Zion Williamson</td>\n",
              "      <td>New Orleans Pelicans</td>\n",
              "      <td>F</td>\n",
              "      <td>2000-07-06</td>\n",
              "      <td>9757440</td>\n",
              "    </tr>\n",
              "    <tr>\n",
              "      <th>248</th>\n",
              "      <td>Zylan Cheatham</td>\n",
              "      <td>New Orleans Pelicans</td>\n",
              "      <td>SF</td>\n",
              "      <td>1995-11-17</td>\n",
              "      <td>79568</td>\n",
              "    </tr>\n",
              "  </tbody>\n",
              "</table>\n",
              "<p>450 rows × 5 columns</p>\n",
              "</div>"
            ],
            "text/plain": [
              "                  Name                   Team Position   Birthday    Salary\n",
              "52        Aaron Gordon          Orlando Magic       PF 1995-09-16  19863636\n",
              "101      Aaron Holiday         Indiana Pacers       PG 1996-09-30   2239200\n",
              "437        Abdel Nader  Oklahoma City Thunder       SF 1993-09-25   1618520\n",
              "81         Adam Mokoka          Chicago Bulls        G 1998-07-18     79568\n",
              "399  Admiral Schofield     Washington Wizards       SF 1997-03-30   1000000\n",
              "..                 ...                    ...      ...        ...       ...\n",
              "159        Zach LaVine          Chicago Bulls       PG 1995-03-10  19500000\n",
              "302       Zach Norvell     Los Angeles Lakers       SG 1997-12-09     79568\n",
              "312       Zhaire Smith     Philadelphia 76ers       SG 1999-06-04   3058800\n",
              "137    Zion Williamson   New Orleans Pelicans        F 2000-07-06   9757440\n",
              "248     Zylan Cheatham   New Orleans Pelicans       SF 1995-11-17     79568\n",
              "\n",
              "[450 rows x 5 columns]"
            ]
          },
          "metadata": {},
          "execution_count": 20
        }
      ]
    },
    {
      "cell_type": "code",
      "metadata": {
        "colab": {
          "base_uri": "https://localhost:8080/",
          "height": 419
        },
        "id": "BxFJ9lkibkSe",
        "outputId": "940dd26c-d588-4ee0-fe12-937e8004ec74"
      },
      "source": [
        "#Can also sort inplace, which mutates original dataframe\n",
        "#however we can 'reset' it by resorting it by index\n",
        "nba.sort_index()"
      ],
      "execution_count": 21,
      "outputs": [
        {
          "output_type": "execute_result",
          "data": {
            "text/html": [
              "<div>\n",
              "<style scoped>\n",
              "    .dataframe tbody tr th:only-of-type {\n",
              "        vertical-align: middle;\n",
              "    }\n",
              "\n",
              "    .dataframe tbody tr th {\n",
              "        vertical-align: top;\n",
              "    }\n",
              "\n",
              "    .dataframe thead th {\n",
              "        text-align: right;\n",
              "    }\n",
              "</style>\n",
              "<table border=\"1\" class=\"dataframe\">\n",
              "  <thead>\n",
              "    <tr style=\"text-align: right;\">\n",
              "      <th></th>\n",
              "      <th>Name</th>\n",
              "      <th>Team</th>\n",
              "      <th>Position</th>\n",
              "      <th>Birthday</th>\n",
              "      <th>Salary</th>\n",
              "    </tr>\n",
              "  </thead>\n",
              "  <tbody>\n",
              "    <tr>\n",
              "      <th>0</th>\n",
              "      <td>Shake Milton</td>\n",
              "      <td>Philadelphia 76ers</td>\n",
              "      <td>SG</td>\n",
              "      <td>1996-09-26</td>\n",
              "      <td>1445697</td>\n",
              "    </tr>\n",
              "    <tr>\n",
              "      <th>1</th>\n",
              "      <td>Christian Wood</td>\n",
              "      <td>Detroit Pistons</td>\n",
              "      <td>PF</td>\n",
              "      <td>1995-09-27</td>\n",
              "      <td>1645357</td>\n",
              "    </tr>\n",
              "    <tr>\n",
              "      <th>2</th>\n",
              "      <td>PJ Washington</td>\n",
              "      <td>Charlotte Hornets</td>\n",
              "      <td>PF</td>\n",
              "      <td>1998-08-23</td>\n",
              "      <td>3831840</td>\n",
              "    </tr>\n",
              "    <tr>\n",
              "      <th>3</th>\n",
              "      <td>Derrick Rose</td>\n",
              "      <td>Detroit Pistons</td>\n",
              "      <td>PG</td>\n",
              "      <td>1988-10-04</td>\n",
              "      <td>7317074</td>\n",
              "    </tr>\n",
              "    <tr>\n",
              "      <th>4</th>\n",
              "      <td>Marial Shayok</td>\n",
              "      <td>Philadelphia 76ers</td>\n",
              "      <td>G</td>\n",
              "      <td>1995-07-26</td>\n",
              "      <td>79568</td>\n",
              "    </tr>\n",
              "    <tr>\n",
              "      <th>...</th>\n",
              "      <td>...</td>\n",
              "      <td>...</td>\n",
              "      <td>...</td>\n",
              "      <td>...</td>\n",
              "      <td>...</td>\n",
              "    </tr>\n",
              "    <tr>\n",
              "      <th>445</th>\n",
              "      <td>Austin Rivers</td>\n",
              "      <td>Houston Rockets</td>\n",
              "      <td>PG</td>\n",
              "      <td>1992-08-01</td>\n",
              "      <td>2174310</td>\n",
              "    </tr>\n",
              "    <tr>\n",
              "      <th>446</th>\n",
              "      <td>Harry Giles</td>\n",
              "      <td>Sacramento Kings</td>\n",
              "      <td>PF</td>\n",
              "      <td>1998-04-22</td>\n",
              "      <td>2578800</td>\n",
              "    </tr>\n",
              "    <tr>\n",
              "      <th>447</th>\n",
              "      <td>Robin Lopez</td>\n",
              "      <td>Milwaukee Bucks</td>\n",
              "      <td>C</td>\n",
              "      <td>1988-04-01</td>\n",
              "      <td>4767000</td>\n",
              "    </tr>\n",
              "    <tr>\n",
              "      <th>448</th>\n",
              "      <td>Collin Sexton</td>\n",
              "      <td>Cleveland Cavaliers</td>\n",
              "      <td>PG</td>\n",
              "      <td>1999-01-04</td>\n",
              "      <td>4764960</td>\n",
              "    </tr>\n",
              "    <tr>\n",
              "      <th>449</th>\n",
              "      <td>Ricky Rubio</td>\n",
              "      <td>Phoenix Suns</td>\n",
              "      <td>PG</td>\n",
              "      <td>1990-10-21</td>\n",
              "      <td>16200000</td>\n",
              "    </tr>\n",
              "  </tbody>\n",
              "</table>\n",
              "<p>450 rows × 5 columns</p>\n",
              "</div>"
            ],
            "text/plain": [
              "               Name                 Team Position   Birthday    Salary\n",
              "0      Shake Milton   Philadelphia 76ers       SG 1996-09-26   1445697\n",
              "1    Christian Wood      Detroit Pistons       PF 1995-09-27   1645357\n",
              "2     PJ Washington    Charlotte Hornets       PF 1998-08-23   3831840\n",
              "3      Derrick Rose      Detroit Pistons       PG 1988-10-04   7317074\n",
              "4     Marial Shayok   Philadelphia 76ers        G 1995-07-26     79568\n",
              "..              ...                  ...      ...        ...       ...\n",
              "445   Austin Rivers      Houston Rockets       PG 1992-08-01   2174310\n",
              "446     Harry Giles     Sacramento Kings       PF 1998-04-22   2578800\n",
              "447     Robin Lopez      Milwaukee Bucks        C 1988-04-01   4767000\n",
              "448   Collin Sexton  Cleveland Cavaliers       PG 1999-01-04   4764960\n",
              "449     Ricky Rubio         Phoenix Suns       PG 1990-10-21  16200000\n",
              "\n",
              "[450 rows x 5 columns]"
            ]
          },
          "metadata": {},
          "execution_count": 21
        }
      ]
    },
    {
      "cell_type": "code",
      "metadata": {
        "colab": {
          "base_uri": "https://localhost:8080/",
          "height": 419
        },
        "id": "6oPSOZ0GMikI",
        "outputId": "4cbff0fa-75c0-431c-a95e-a9e866db126a"
      },
      "source": [
        "#Sort_index can sort either the columns or rows by passing in parameter \n",
        "#to indicate which axes, 0 for rows and 1 for columns\n",
        "nba.sort_index(axis = 1, ascending = False)\n"
      ],
      "execution_count": 22,
      "outputs": [
        {
          "output_type": "execute_result",
          "data": {
            "text/html": [
              "<div>\n",
              "<style scoped>\n",
              "    .dataframe tbody tr th:only-of-type {\n",
              "        vertical-align: middle;\n",
              "    }\n",
              "\n",
              "    .dataframe tbody tr th {\n",
              "        vertical-align: top;\n",
              "    }\n",
              "\n",
              "    .dataframe thead th {\n",
              "        text-align: right;\n",
              "    }\n",
              "</style>\n",
              "<table border=\"1\" class=\"dataframe\">\n",
              "  <thead>\n",
              "    <tr style=\"text-align: right;\">\n",
              "      <th></th>\n",
              "      <th>Team</th>\n",
              "      <th>Salary</th>\n",
              "      <th>Position</th>\n",
              "      <th>Name</th>\n",
              "      <th>Birthday</th>\n",
              "    </tr>\n",
              "  </thead>\n",
              "  <tbody>\n",
              "    <tr>\n",
              "      <th>0</th>\n",
              "      <td>Philadelphia 76ers</td>\n",
              "      <td>1445697</td>\n",
              "      <td>SG</td>\n",
              "      <td>Shake Milton</td>\n",
              "      <td>1996-09-26</td>\n",
              "    </tr>\n",
              "    <tr>\n",
              "      <th>1</th>\n",
              "      <td>Detroit Pistons</td>\n",
              "      <td>1645357</td>\n",
              "      <td>PF</td>\n",
              "      <td>Christian Wood</td>\n",
              "      <td>1995-09-27</td>\n",
              "    </tr>\n",
              "    <tr>\n",
              "      <th>2</th>\n",
              "      <td>Charlotte Hornets</td>\n",
              "      <td>3831840</td>\n",
              "      <td>PF</td>\n",
              "      <td>PJ Washington</td>\n",
              "      <td>1998-08-23</td>\n",
              "    </tr>\n",
              "    <tr>\n",
              "      <th>3</th>\n",
              "      <td>Detroit Pistons</td>\n",
              "      <td>7317074</td>\n",
              "      <td>PG</td>\n",
              "      <td>Derrick Rose</td>\n",
              "      <td>1988-10-04</td>\n",
              "    </tr>\n",
              "    <tr>\n",
              "      <th>4</th>\n",
              "      <td>Philadelphia 76ers</td>\n",
              "      <td>79568</td>\n",
              "      <td>G</td>\n",
              "      <td>Marial Shayok</td>\n",
              "      <td>1995-07-26</td>\n",
              "    </tr>\n",
              "    <tr>\n",
              "      <th>...</th>\n",
              "      <td>...</td>\n",
              "      <td>...</td>\n",
              "      <td>...</td>\n",
              "      <td>...</td>\n",
              "      <td>...</td>\n",
              "    </tr>\n",
              "    <tr>\n",
              "      <th>445</th>\n",
              "      <td>Houston Rockets</td>\n",
              "      <td>2174310</td>\n",
              "      <td>PG</td>\n",
              "      <td>Austin Rivers</td>\n",
              "      <td>1992-08-01</td>\n",
              "    </tr>\n",
              "    <tr>\n",
              "      <th>446</th>\n",
              "      <td>Sacramento Kings</td>\n",
              "      <td>2578800</td>\n",
              "      <td>PF</td>\n",
              "      <td>Harry Giles</td>\n",
              "      <td>1998-04-22</td>\n",
              "    </tr>\n",
              "    <tr>\n",
              "      <th>447</th>\n",
              "      <td>Milwaukee Bucks</td>\n",
              "      <td>4767000</td>\n",
              "      <td>C</td>\n",
              "      <td>Robin Lopez</td>\n",
              "      <td>1988-04-01</td>\n",
              "    </tr>\n",
              "    <tr>\n",
              "      <th>448</th>\n",
              "      <td>Cleveland Cavaliers</td>\n",
              "      <td>4764960</td>\n",
              "      <td>PG</td>\n",
              "      <td>Collin Sexton</td>\n",
              "      <td>1999-01-04</td>\n",
              "    </tr>\n",
              "    <tr>\n",
              "      <th>449</th>\n",
              "      <td>Phoenix Suns</td>\n",
              "      <td>16200000</td>\n",
              "      <td>PG</td>\n",
              "      <td>Ricky Rubio</td>\n",
              "      <td>1990-10-21</td>\n",
              "    </tr>\n",
              "  </tbody>\n",
              "</table>\n",
              "<p>450 rows × 5 columns</p>\n",
              "</div>"
            ],
            "text/plain": [
              "                    Team    Salary Position            Name   Birthday\n",
              "0     Philadelphia 76ers   1445697       SG    Shake Milton 1996-09-26\n",
              "1        Detroit Pistons   1645357       PF  Christian Wood 1995-09-27\n",
              "2      Charlotte Hornets   3831840       PF   PJ Washington 1998-08-23\n",
              "3        Detroit Pistons   7317074       PG    Derrick Rose 1988-10-04\n",
              "4     Philadelphia 76ers     79568        G   Marial Shayok 1995-07-26\n",
              "..                   ...       ...      ...             ...        ...\n",
              "445      Houston Rockets   2174310       PG   Austin Rivers 1992-08-01\n",
              "446     Sacramento Kings   2578800       PF     Harry Giles 1998-04-22\n",
              "447      Milwaukee Bucks   4767000        C     Robin Lopez 1988-04-01\n",
              "448  Cleveland Cavaliers   4764960       PG   Collin Sexton 1999-01-04\n",
              "449         Phoenix Suns  16200000       PG     Ricky Rubio 1990-10-21\n",
              "\n",
              "[450 rows x 5 columns]"
            ]
          },
          "metadata": {},
          "execution_count": 22
        }
      ]
    },
    {
      "cell_type": "code",
      "metadata": {
        "colab": {
          "base_uri": "https://localhost:8080/",
          "height": 235
        },
        "id": "QazZq9Lps-I9",
        "outputId": "5237294d-60da-43ba-f47b-8ebaf34bf2a1"
      },
      "source": [
        "#Can reset the index to be one of the included columns\n",
        "#Choosing one that makes sense and is usually unique values helps organize\n",
        "nba.set_index(\"Name\",inplace=True)\n",
        "nba.head()"
      ],
      "execution_count": 23,
      "outputs": [
        {
          "output_type": "execute_result",
          "data": {
            "text/html": [
              "<div>\n",
              "<style scoped>\n",
              "    .dataframe tbody tr th:only-of-type {\n",
              "        vertical-align: middle;\n",
              "    }\n",
              "\n",
              "    .dataframe tbody tr th {\n",
              "        vertical-align: top;\n",
              "    }\n",
              "\n",
              "    .dataframe thead th {\n",
              "        text-align: right;\n",
              "    }\n",
              "</style>\n",
              "<table border=\"1\" class=\"dataframe\">\n",
              "  <thead>\n",
              "    <tr style=\"text-align: right;\">\n",
              "      <th></th>\n",
              "      <th>Team</th>\n",
              "      <th>Position</th>\n",
              "      <th>Birthday</th>\n",
              "      <th>Salary</th>\n",
              "    </tr>\n",
              "    <tr>\n",
              "      <th>Name</th>\n",
              "      <th></th>\n",
              "      <th></th>\n",
              "      <th></th>\n",
              "      <th></th>\n",
              "    </tr>\n",
              "  </thead>\n",
              "  <tbody>\n",
              "    <tr>\n",
              "      <th>Shake Milton</th>\n",
              "      <td>Philadelphia 76ers</td>\n",
              "      <td>SG</td>\n",
              "      <td>1996-09-26</td>\n",
              "      <td>1445697</td>\n",
              "    </tr>\n",
              "    <tr>\n",
              "      <th>Christian Wood</th>\n",
              "      <td>Detroit Pistons</td>\n",
              "      <td>PF</td>\n",
              "      <td>1995-09-27</td>\n",
              "      <td>1645357</td>\n",
              "    </tr>\n",
              "    <tr>\n",
              "      <th>PJ Washington</th>\n",
              "      <td>Charlotte Hornets</td>\n",
              "      <td>PF</td>\n",
              "      <td>1998-08-23</td>\n",
              "      <td>3831840</td>\n",
              "    </tr>\n",
              "    <tr>\n",
              "      <th>Derrick Rose</th>\n",
              "      <td>Detroit Pistons</td>\n",
              "      <td>PG</td>\n",
              "      <td>1988-10-04</td>\n",
              "      <td>7317074</td>\n",
              "    </tr>\n",
              "    <tr>\n",
              "      <th>Marial Shayok</th>\n",
              "      <td>Philadelphia 76ers</td>\n",
              "      <td>G</td>\n",
              "      <td>1995-07-26</td>\n",
              "      <td>79568</td>\n",
              "    </tr>\n",
              "  </tbody>\n",
              "</table>\n",
              "</div>"
            ],
            "text/plain": [
              "                              Team Position   Birthday   Salary\n",
              "Name                                                           \n",
              "Shake Milton    Philadelphia 76ers       SG 1996-09-26  1445697\n",
              "Christian Wood     Detroit Pistons       PF 1995-09-27  1645357\n",
              "PJ Washington    Charlotte Hornets       PF 1998-08-23  3831840\n",
              "Derrick Rose       Detroit Pistons       PG 1988-10-04  7317074\n",
              "Marial Shayok   Philadelphia 76ers        G 1995-07-26    79568"
            ]
          },
          "metadata": {},
          "execution_count": 23
        }
      ]
    },
    {
      "cell_type": "markdown",
      "metadata": {
        "id": "bL0O1MYpY3Ex"
      },
      "source": [
        "### Selecting Columns or Rows from a DataFrame"
      ]
    },
    {
      "cell_type": "code",
      "metadata": {
        "id": "idJeo2BO3FAA"
      },
      "source": [
        "#To Select Columns from a dataframe use either property with column name\n",
        "#or use Brackets with column names\n",
        "nba_salary = nba.Salary\n",
        "nba_salary2 = nba[\"Salary\"]\n",
        "\n",
        "#for Multiple use brackects\n",
        "nba_salaary_birthday = nba[[\"Birthday\",\"Salary\"]]"
      ],
      "execution_count": 24,
      "outputs": []
    },
    {
      "cell_type": "code",
      "metadata": {
        "colab": {
          "base_uri": "https://localhost:8080/"
        },
        "id": "3oRDy_Id3Ghz",
        "outputId": "5a5ff8d5-378e-4c2f-f2e3-13de7dc54270"
      },
      "source": [
        "#To select rows, use .iloc() or .loc[] methods\n",
        "#The .iloc[] method is based on the index row label, and in this it is the name\n",
        "nba.loc[\"LeBron James\"]"
      ],
      "execution_count": 26,
      "outputs": [
        {
          "output_type": "execute_result",
          "data": {
            "text/plain": [
              "Team         Los Angeles Lakers\n",
              "Position                     PF\n",
              "Birthday    1984-12-30 00:00:00\n",
              "Salary                 37436858\n",
              "Name: LeBron James, dtype: object"
            ]
          },
          "metadata": {},
          "execution_count": 26
        }
      ]
    },
    {
      "cell_type": "code",
      "metadata": {
        "colab": {
          "base_uri": "https://localhost:8080/",
          "height": 142
        },
        "id": "-n9x9_CcwVTF",
        "outputId": "9e33123a-f92b-4a5a-d765-fa477dd2ff57"
      },
      "source": [
        "#Can Also pass multiple names and it will return dataframe\n",
        "nba.loc[[\"Kawhi Leonard\",\"LeBron James\"]]"
      ],
      "execution_count": 32,
      "outputs": [
        {
          "output_type": "execute_result",
          "data": {
            "text/html": [
              "<div>\n",
              "<style scoped>\n",
              "    .dataframe tbody tr th:only-of-type {\n",
              "        vertical-align: middle;\n",
              "    }\n",
              "\n",
              "    .dataframe tbody tr th {\n",
              "        vertical-align: top;\n",
              "    }\n",
              "\n",
              "    .dataframe thead th {\n",
              "        text-align: right;\n",
              "    }\n",
              "</style>\n",
              "<table border=\"1\" class=\"dataframe\">\n",
              "  <thead>\n",
              "    <tr style=\"text-align: right;\">\n",
              "      <th></th>\n",
              "      <th>Team</th>\n",
              "      <th>Position</th>\n",
              "      <th>Birthday</th>\n",
              "      <th>Salary</th>\n",
              "    </tr>\n",
              "    <tr>\n",
              "      <th>Name</th>\n",
              "      <th></th>\n",
              "      <th></th>\n",
              "      <th></th>\n",
              "      <th></th>\n",
              "    </tr>\n",
              "  </thead>\n",
              "  <tbody>\n",
              "    <tr>\n",
              "      <th>Kawhi Leonard</th>\n",
              "      <td>Los Angeles Clippers</td>\n",
              "      <td>SF</td>\n",
              "      <td>1991-06-29</td>\n",
              "      <td>32742000</td>\n",
              "    </tr>\n",
              "    <tr>\n",
              "      <th>LeBron James</th>\n",
              "      <td>Los Angeles Lakers</td>\n",
              "      <td>PF</td>\n",
              "      <td>1984-12-30</td>\n",
              "      <td>37436858</td>\n",
              "    </tr>\n",
              "  </tbody>\n",
              "</table>\n",
              "</div>"
            ],
            "text/plain": [
              "                               Team Position   Birthday    Salary\n",
              "Name                                                             \n",
              "Kawhi Leonard  Los Angeles Clippers       SF 1991-06-29  32742000\n",
              "LeBron James     Los Angeles Lakers       PF 1984-12-30  37436858"
            ]
          },
          "metadata": {},
          "execution_count": 32
        }
      ]
    },
    {
      "cell_type": "code",
      "metadata": {
        "colab": {
          "base_uri": "https://localhost:8080/",
          "height": 266
        },
        "id": "0LpsI-UIwmGh",
        "outputId": "bc2162c1-46e3-4e06-e220-308a5fdfc436"
      },
      "source": [
        "#Can Also slice index ranges\n",
        "#And to select a range in alphabetical order, use method\n",
        "nba.sort_index().loc[\"Otto Porter\":\"Patrick Beverley\"]"
      ],
      "execution_count": 34,
      "outputs": [
        {
          "output_type": "execute_result",
          "data": {
            "text/html": [
              "<div>\n",
              "<style scoped>\n",
              "    .dataframe tbody tr th:only-of-type {\n",
              "        vertical-align: middle;\n",
              "    }\n",
              "\n",
              "    .dataframe tbody tr th {\n",
              "        vertical-align: top;\n",
              "    }\n",
              "\n",
              "    .dataframe thead th {\n",
              "        text-align: right;\n",
              "    }\n",
              "</style>\n",
              "<table border=\"1\" class=\"dataframe\">\n",
              "  <thead>\n",
              "    <tr style=\"text-align: right;\">\n",
              "      <th></th>\n",
              "      <th>Team</th>\n",
              "      <th>Position</th>\n",
              "      <th>Birthday</th>\n",
              "      <th>Salary</th>\n",
              "    </tr>\n",
              "    <tr>\n",
              "      <th>Name</th>\n",
              "      <th></th>\n",
              "      <th></th>\n",
              "      <th></th>\n",
              "      <th></th>\n",
              "    </tr>\n",
              "  </thead>\n",
              "  <tbody>\n",
              "    <tr>\n",
              "      <th>Otto Porter</th>\n",
              "      <td>Chicago Bulls</td>\n",
              "      <td>SF</td>\n",
              "      <td>1993-06-03</td>\n",
              "      <td>27250576</td>\n",
              "    </tr>\n",
              "    <tr>\n",
              "      <th>PJ Dozier</th>\n",
              "      <td>Denver Nuggets</td>\n",
              "      <td>PG</td>\n",
              "      <td>1996-10-25</td>\n",
              "      <td>79568</td>\n",
              "    </tr>\n",
              "    <tr>\n",
              "      <th>PJ Washington</th>\n",
              "      <td>Charlotte Hornets</td>\n",
              "      <td>PF</td>\n",
              "      <td>1998-08-23</td>\n",
              "      <td>3831840</td>\n",
              "    </tr>\n",
              "    <tr>\n",
              "      <th>Pascal Siakam</th>\n",
              "      <td>Toronto Raptors</td>\n",
              "      <td>PF</td>\n",
              "      <td>1994-04-02</td>\n",
              "      <td>2351838</td>\n",
              "    </tr>\n",
              "    <tr>\n",
              "      <th>Pat Connaughton</th>\n",
              "      <td>Milwaukee Bucks</td>\n",
              "      <td>SG</td>\n",
              "      <td>1993-01-06</td>\n",
              "      <td>1723050</td>\n",
              "    </tr>\n",
              "    <tr>\n",
              "      <th>Patrick Beverley</th>\n",
              "      <td>Los Angeles Clippers</td>\n",
              "      <td>PG</td>\n",
              "      <td>1988-07-12</td>\n",
              "      <td>12345680</td>\n",
              "    </tr>\n",
              "  </tbody>\n",
              "</table>\n",
              "</div>"
            ],
            "text/plain": [
              "                                  Team Position   Birthday    Salary\n",
              "Name                                                                \n",
              "Otto Porter              Chicago Bulls       SF 1993-06-03  27250576\n",
              "PJ Dozier               Denver Nuggets       PG 1996-10-25     79568\n",
              "PJ Washington        Charlotte Hornets       PF 1998-08-23   3831840\n",
              "Pascal Siakam          Toronto Raptors       PF 1994-04-02   2351838\n",
              "Pat Connaughton        Milwaukee Bucks       SG 1993-01-06   1723050\n",
              "Patrick Beverley  Los Angeles Clippers       PG 1988-07-12  12345680"
            ]
          },
          "metadata": {},
          "execution_count": 34
        }
      ]
    },
    {
      "cell_type": "code",
      "metadata": {
        "colab": {
          "base_uri": "https://localhost:8080/"
        },
        "id": "uI2nd8UXxCKS",
        "outputId": "de787785-7905-41cc-faee-1cfdc1ec8b2b"
      },
      "source": [
        "#The .iloc() method (index location) is used for searching by position\n",
        "nba.iloc[300]"
      ],
      "execution_count": 35,
      "outputs": [
        {
          "output_type": "execute_result",
          "data": {
            "text/plain": [
              "Team             Denver Nuggets\n",
              "Position                     PF\n",
              "Birthday    1999-04-03 00:00:00\n",
              "Salary                  1416852\n",
              "Name: Jarred Vanderbilt, dtype: object"
            ]
          },
          "metadata": {},
          "execution_count": 35
        }
      ]
    },
    {
      "cell_type": "code",
      "metadata": {
        "colab": {
          "base_uri": "https://localhost:8080/",
          "height": 204
        },
        "id": "ADdKHIKuxXNC",
        "outputId": "98ee35a1-fe55-4470-c11e-2b1ecc36b444"
      },
      "source": [
        "#using multiple positions returns a dataframe\n",
        "nba.iloc[[100,105,120,150]]"
      ],
      "execution_count": 36,
      "outputs": [
        {
          "output_type": "execute_result",
          "data": {
            "text/html": [
              "<div>\n",
              "<style scoped>\n",
              "    .dataframe tbody tr th:only-of-type {\n",
              "        vertical-align: middle;\n",
              "    }\n",
              "\n",
              "    .dataframe tbody tr th {\n",
              "        vertical-align: top;\n",
              "    }\n",
              "\n",
              "    .dataframe thead th {\n",
              "        text-align: right;\n",
              "    }\n",
              "</style>\n",
              "<table border=\"1\" class=\"dataframe\">\n",
              "  <thead>\n",
              "    <tr style=\"text-align: right;\">\n",
              "      <th></th>\n",
              "      <th>Team</th>\n",
              "      <th>Position</th>\n",
              "      <th>Birthday</th>\n",
              "      <th>Salary</th>\n",
              "    </tr>\n",
              "    <tr>\n",
              "      <th>Name</th>\n",
              "      <th></th>\n",
              "      <th></th>\n",
              "      <th></th>\n",
              "      <th></th>\n",
              "    </tr>\n",
              "  </thead>\n",
              "  <tbody>\n",
              "    <tr>\n",
              "      <th>Brian Bowen</th>\n",
              "      <td>Indiana Pacers</td>\n",
              "      <td>SG</td>\n",
              "      <td>1998-10-02</td>\n",
              "      <td>79568</td>\n",
              "    </tr>\n",
              "    <tr>\n",
              "      <th>John Konchar</th>\n",
              "      <td>Memphis Grizzlies</td>\n",
              "      <td>SG</td>\n",
              "      <td>1996-03-22</td>\n",
              "      <td>79568</td>\n",
              "    </tr>\n",
              "    <tr>\n",
              "      <th>DeMar DeRozan</th>\n",
              "      <td>San Antonio Spurs</td>\n",
              "      <td>SF</td>\n",
              "      <td>1989-08-07</td>\n",
              "      <td>27739975</td>\n",
              "    </tr>\n",
              "    <tr>\n",
              "      <th>Solomon Hill</th>\n",
              "      <td>Memphis Grizzlies</td>\n",
              "      <td>SF</td>\n",
              "      <td>1991-03-18</td>\n",
              "      <td>13290395</td>\n",
              "    </tr>\n",
              "  </tbody>\n",
              "</table>\n",
              "</div>"
            ],
            "text/plain": [
              "                            Team Position   Birthday    Salary\n",
              "Name                                                          \n",
              "Brian Bowen       Indiana Pacers       SG 1998-10-02     79568\n",
              "John Konchar   Memphis Grizzlies       SG 1996-03-22     79568\n",
              "DeMar DeRozan  San Antonio Spurs       SF 1989-08-07  27739975\n",
              "Solomon Hill   Memphis Grizzlies       SF 1991-03-18  13290395"
            ]
          },
          "metadata": {},
          "execution_count": 36
        }
      ]
    },
    {
      "cell_type": "code",
      "metadata": {
        "colab": {
          "base_uri": "https://localhost:8080/",
          "height": 390
        },
        "id": "ZU_t0yJbxf2m",
        "outputId": "244e0b35-4d5e-46d9-bfba-e955873f15ce"
      },
      "source": [
        "#Can also slice with index positions\n",
        "#Use negative numbers to retrieve end of the dataset\n",
        "nba.iloc[100:110]"
      ],
      "execution_count": 38,
      "outputs": [
        {
          "output_type": "execute_result",
          "data": {
            "text/html": [
              "<div>\n",
              "<style scoped>\n",
              "    .dataframe tbody tr th:only-of-type {\n",
              "        vertical-align: middle;\n",
              "    }\n",
              "\n",
              "    .dataframe tbody tr th {\n",
              "        vertical-align: top;\n",
              "    }\n",
              "\n",
              "    .dataframe thead th {\n",
              "        text-align: right;\n",
              "    }\n",
              "</style>\n",
              "<table border=\"1\" class=\"dataframe\">\n",
              "  <thead>\n",
              "    <tr style=\"text-align: right;\">\n",
              "      <th></th>\n",
              "      <th>Team</th>\n",
              "      <th>Position</th>\n",
              "      <th>Birthday</th>\n",
              "      <th>Salary</th>\n",
              "    </tr>\n",
              "    <tr>\n",
              "      <th>Name</th>\n",
              "      <th></th>\n",
              "      <th></th>\n",
              "      <th></th>\n",
              "      <th></th>\n",
              "    </tr>\n",
              "  </thead>\n",
              "  <tbody>\n",
              "    <tr>\n",
              "      <th>Brian Bowen</th>\n",
              "      <td>Indiana Pacers</td>\n",
              "      <td>SG</td>\n",
              "      <td>1998-10-02</td>\n",
              "      <td>79568</td>\n",
              "    </tr>\n",
              "    <tr>\n",
              "      <th>Aaron Holiday</th>\n",
              "      <td>Indiana Pacers</td>\n",
              "      <td>PG</td>\n",
              "      <td>1996-09-30</td>\n",
              "      <td>2239200</td>\n",
              "    </tr>\n",
              "    <tr>\n",
              "      <th>Troy Daniels</th>\n",
              "      <td>Los Angeles Lakers</td>\n",
              "      <td>SG</td>\n",
              "      <td>1991-07-15</td>\n",
              "      <td>2028594</td>\n",
              "    </tr>\n",
              "    <tr>\n",
              "      <th>Buddy Hield</th>\n",
              "      <td>Sacramento Kings</td>\n",
              "      <td>SG</td>\n",
              "      <td>1992-12-17</td>\n",
              "      <td>4861207</td>\n",
              "    </tr>\n",
              "    <tr>\n",
              "      <th>Terance Mann</th>\n",
              "      <td>Los Angeles Clippers</td>\n",
              "      <td>SG</td>\n",
              "      <td>1996-10-18</td>\n",
              "      <td>1000000</td>\n",
              "    </tr>\n",
              "    <tr>\n",
              "      <th>John Konchar</th>\n",
              "      <td>Memphis Grizzlies</td>\n",
              "      <td>SG</td>\n",
              "      <td>1996-03-22</td>\n",
              "      <td>79568</td>\n",
              "    </tr>\n",
              "    <tr>\n",
              "      <th>KZ Okpala</th>\n",
              "      <td>Miami Heat</td>\n",
              "      <td>SF</td>\n",
              "      <td>1999-04-28</td>\n",
              "      <td>898310</td>\n",
              "    </tr>\n",
              "    <tr>\n",
              "      <th>Denzel Valentine</th>\n",
              "      <td>Chicago Bulls</td>\n",
              "      <td>SF</td>\n",
              "      <td>1993-11-16</td>\n",
              "      <td>3377568</td>\n",
              "    </tr>\n",
              "    <tr>\n",
              "      <th>Marquese Chriss</th>\n",
              "      <td>Golden State Warriors</td>\n",
              "      <td>PF</td>\n",
              "      <td>1997-07-02</td>\n",
              "      <td>1678854</td>\n",
              "    </tr>\n",
              "    <tr>\n",
              "      <th>Anthony Davis</th>\n",
              "      <td>Los Angeles Lakers</td>\n",
              "      <td>C</td>\n",
              "      <td>1993-03-11</td>\n",
              "      <td>27093019</td>\n",
              "    </tr>\n",
              "  </tbody>\n",
              "</table>\n",
              "</div>"
            ],
            "text/plain": [
              "                                   Team Position   Birthday    Salary\n",
              "Name                                                                 \n",
              "Brian Bowen              Indiana Pacers       SG 1998-10-02     79568\n",
              "Aaron Holiday            Indiana Pacers       PG 1996-09-30   2239200\n",
              "Troy Daniels         Los Angeles Lakers       SG 1991-07-15   2028594\n",
              "Buddy Hield            Sacramento Kings       SG 1992-12-17   4861207\n",
              "Terance Mann       Los Angeles Clippers       SG 1996-10-18   1000000\n",
              "John Konchar          Memphis Grizzlies       SG 1996-03-22     79568\n",
              "KZ Okpala                    Miami Heat       SF 1999-04-28    898310\n",
              "Denzel Valentine          Chicago Bulls       SF 1993-11-16   3377568\n",
              "Marquese Chriss   Golden State Warriors       PF 1997-07-02   1678854\n",
              "Anthony Davis        Los Angeles Lakers        C 1993-03-11  27093019"
            ]
          },
          "metadata": {},
          "execution_count": 38
        }
      ]
    },
    {
      "cell_type": "code",
      "metadata": {
        "colab": {
          "base_uri": "https://localhost:8080/",
          "height": 36
        },
        "id": "1W2L681xxl8v",
        "outputId": "36a11c99-0a54-4666-87db-ca2e479b8731"
      },
      "source": [
        "#To extract a specific value of an attribute use the .loc[]\n",
        "#df.loc[index,column_name]\n",
        "nba.loc[\"Giannis Antetokounmpo\", \"Team\"]"
      ],
      "execution_count": 39,
      "outputs": [
        {
          "output_type": "execute_result",
          "data": {
            "application/vnd.google.colaboratory.intrinsic+json": {
              "type": "string"
            },
            "text/plain": [
              "'Milwaukee Bucks'"
            ]
          },
          "metadata": {},
          "execution_count": 39
        }
      ]
    },
    {
      "cell_type": "code",
      "metadata": {
        "colab": {
          "base_uri": "https://localhost:8080/"
        },
        "id": "edZqUWPex9or",
        "outputId": "b2f50d64-3a0f-414c-cb64-1b43cda75274"
      },
      "source": [
        "#columns also have index position and can be used to specify search\n",
        "#use nba.columns to identify the positions \n",
        "#then use .iloc[row_index,column_index]\n",
        "\n",
        "#Column index 3 is salary therefore\n",
        "nba.iloc[50,3]\n"
      ],
      "execution_count": 41,
      "outputs": [
        {
          "output_type": "execute_result",
          "data": {
            "text/plain": [
              "1416852"
            ]
          },
          "metadata": {},
          "execution_count": 41
        }
      ]
    },
    {
      "cell_type": "code",
      "metadata": {
        "colab": {
          "base_uri": "https://localhost:8080/"
        },
        "id": "xta8Za0Fyp4N",
        "outputId": "2f3d1685-244b-4084-d5be-650edea62839"
      },
      "source": [
        "#Alternatives to .iloc[] and .loc[]  are \n",
        "# .at[] and .iat[]\n",
        "#which are used to extract a single value (rather than lists or series)\n",
        "#These methods are often more efficient than the .iloc and .loc versions\n",
        "#All these methods can be used on series as well\n",
        "\n",
        "nba[\"Salary\"].iloc[50]"
      ],
      "execution_count": 43,
      "outputs": [
        {
          "output_type": "execute_result",
          "data": {
            "text/plain": [
              "1416852"
            ]
          },
          "metadata": {},
          "execution_count": 43
        }
      ]
    },
    {
      "cell_type": "code",
      "metadata": {
        "colab": {
          "base_uri": "https://localhost:8080/"
        },
        "id": "j2wA8N8CzWC4",
        "outputId": "94297b7d-06c9-4310-e738-3abdf825805c"
      },
      "source": [
        "nba[\"Salary\"].iat[50]"
      ],
      "execution_count": 44,
      "outputs": [
        {
          "output_type": "execute_result",
          "data": {
            "text/plain": [
              "1416852"
            ]
          },
          "metadata": {},
          "execution_count": 44
        }
      ]
    },
    {
      "cell_type": "markdown",
      "metadata": {
        "id": "GEAFsGJOzwyH"
      },
      "source": [
        "### Renaming Columns and Rows"
      ]
    },
    {
      "cell_type": "code",
      "metadata": {
        "colab": {
          "base_uri": "https://localhost:8080/"
        },
        "id": "uvL0cX67zva1",
        "outputId": "05e343ce-a4eb-46d4-cdbc-7590665c71ef"
      },
      "source": [
        "#To rename a column, first identify the size of list needed and match up index position of new name\n",
        "nba.columns"
      ],
      "execution_count": 51,
      "outputs": [
        {
          "output_type": "execute_result",
          "data": {
            "text/plain": [
              "Index(['Team', 'Position', 'DoB', 'Salary'], dtype='object')"
            ]
          },
          "metadata": {},
          "execution_count": 51
        }
      ]
    },
    {
      "cell_type": "code",
      "metadata": {
        "colab": {
          "base_uri": "https://localhost:8080/"
        },
        "id": "3rTWam3mz9UX",
        "outputId": "90637824-eca4-4d8b-e942-ea561a4c4507"
      },
      "source": [
        "nba.columns = [\"Team\",\"Position\", \"DoB\", \"Salary\"]\n",
        "nba.columns"
      ],
      "execution_count": 55,
      "outputs": [
        {
          "output_type": "execute_result",
          "data": {
            "text/plain": [
              "Index(['Team', 'Position', 'DoB', 'Salary'], dtype='object')"
            ]
          },
          "metadata": {},
          "execution_count": 55
        }
      ]
    },
    {
      "cell_type": "code",
      "metadata": {
        "colab": {
          "base_uri": "https://localhost:8080/"
        },
        "id": "SMHdMYxh0C6V",
        "outputId": "27ab0a9e-a06e-465d-af9d-5ef6b46aa7f0"
      },
      "source": [
        "#Alternatively, can specifiy the exact column with .rename()\n",
        "#make sure to pass inplace=True if you want to modify the original\"\n",
        "nba.rename(columns={\"DoB\": \"Birthday\"}, inplace=True)\n",
        "nba.columns"
      ],
      "execution_count": 57,
      "outputs": [
        {
          "output_type": "execute_result",
          "data": {
            "text/plain": [
              "Index(['Team', 'Position', 'Birthday', 'Salary'], dtype='object')"
            ]
          },
          "metadata": {},
          "execution_count": 57
        }
      ]
    },
    {
      "cell_type": "code",
      "metadata": {
        "colab": {
          "base_uri": "https://localhost:8080/"
        },
        "id": "14Sv1Kpu0QDZ",
        "outputId": "859542ff-0c08-4bae-de1d-d558e0e1490c"
      },
      "source": [
        "#Can also use the .rename() on index labels\n",
        "nba.rename(index={\"LeBron James\":\"Big Boi\"},inplace=True)\n",
        "nba.loc[\"Big Boi\"]"
      ],
      "execution_count": 59,
      "outputs": [
        {
          "output_type": "execute_result",
          "data": {
            "text/plain": [
              "Team         Los Angeles Lakers\n",
              "Position                     PF\n",
              "Birthday    1984-12-30 00:00:00\n",
              "Salary                 37436858\n",
              "Name: Big Boi, dtype: object"
            ]
          },
          "metadata": {},
          "execution_count": 59
        }
      ]
    },
    {
      "cell_type": "code",
      "metadata": {
        "colab": {
          "base_uri": "https://localhost:8080/",
          "height": 235
        },
        "id": "TrvdzGcb0-ne",
        "outputId": "2abdea4d-e89f-43b4-9a3f-f8e4770429d6"
      },
      "source": [
        "#To Reset the index and replace it with a different index\n",
        "#use .reset_index() combined with .set_index()\n",
        "nba.reset_index().set_index(\"Team\").head()"
      ],
      "execution_count": 61,
      "outputs": [
        {
          "output_type": "execute_result",
          "data": {
            "text/html": [
              "<div>\n",
              "<style scoped>\n",
              "    .dataframe tbody tr th:only-of-type {\n",
              "        vertical-align: middle;\n",
              "    }\n",
              "\n",
              "    .dataframe tbody tr th {\n",
              "        vertical-align: top;\n",
              "    }\n",
              "\n",
              "    .dataframe thead th {\n",
              "        text-align: right;\n",
              "    }\n",
              "</style>\n",
              "<table border=\"1\" class=\"dataframe\">\n",
              "  <thead>\n",
              "    <tr style=\"text-align: right;\">\n",
              "      <th></th>\n",
              "      <th>Name</th>\n",
              "      <th>Position</th>\n",
              "      <th>Birthday</th>\n",
              "      <th>Salary</th>\n",
              "    </tr>\n",
              "    <tr>\n",
              "      <th>Team</th>\n",
              "      <th></th>\n",
              "      <th></th>\n",
              "      <th></th>\n",
              "      <th></th>\n",
              "    </tr>\n",
              "  </thead>\n",
              "  <tbody>\n",
              "    <tr>\n",
              "      <th>Philadelphia 76ers</th>\n",
              "      <td>Shake Milton</td>\n",
              "      <td>SG</td>\n",
              "      <td>1996-09-26</td>\n",
              "      <td>1445697</td>\n",
              "    </tr>\n",
              "    <tr>\n",
              "      <th>Detroit Pistons</th>\n",
              "      <td>Christian Wood</td>\n",
              "      <td>PF</td>\n",
              "      <td>1995-09-27</td>\n",
              "      <td>1645357</td>\n",
              "    </tr>\n",
              "    <tr>\n",
              "      <th>Charlotte Hornets</th>\n",
              "      <td>PJ Washington</td>\n",
              "      <td>PF</td>\n",
              "      <td>1998-08-23</td>\n",
              "      <td>3831840</td>\n",
              "    </tr>\n",
              "    <tr>\n",
              "      <th>Detroit Pistons</th>\n",
              "      <td>Derrick Rose</td>\n",
              "      <td>PG</td>\n",
              "      <td>1988-10-04</td>\n",
              "      <td>7317074</td>\n",
              "    </tr>\n",
              "    <tr>\n",
              "      <th>Philadelphia 76ers</th>\n",
              "      <td>Marial Shayok</td>\n",
              "      <td>G</td>\n",
              "      <td>1995-07-26</td>\n",
              "      <td>79568</td>\n",
              "    </tr>\n",
              "  </tbody>\n",
              "</table>\n",
              "</div>"
            ],
            "text/plain": [
              "                              Name Position   Birthday   Salary\n",
              "Team                                                           \n",
              "Philadelphia 76ers    Shake Milton       SG 1996-09-26  1445697\n",
              "Detroit Pistons     Christian Wood       PF 1995-09-27  1645357\n",
              "Charlotte Hornets    PJ Washington       PF 1998-08-23  3831840\n",
              "Detroit Pistons       Derrick Rose       PG 1988-10-04  7317074\n",
              "Philadelphia 76ers   Marial Shayok        G 1995-07-26    79568"
            ]
          },
          "metadata": {},
          "execution_count": 61
        }
      ]
    },
    {
      "cell_type": "code",
      "metadata": {
        "colab": {
          "base_uri": "https://localhost:8080/",
          "height": 235
        },
        "id": "TMToJusS1aRF",
        "outputId": "39df775f-7ca5-4a44-d27d-24ba4278c689"
      },
      "source": [
        "#However the chain methods doesn't modify original dataframe\n",
        "#Have to reset it in individual lines\n",
        "nba.reset_index(inplace=True)\n",
        "nba.set_index(\"Name\",inplace=True)\n",
        "nba.head(5)\n"
      ],
      "execution_count": 63,
      "outputs": [
        {
          "output_type": "execute_result",
          "data": {
            "text/html": [
              "<div>\n",
              "<style scoped>\n",
              "    .dataframe tbody tr th:only-of-type {\n",
              "        vertical-align: middle;\n",
              "    }\n",
              "\n",
              "    .dataframe tbody tr th {\n",
              "        vertical-align: top;\n",
              "    }\n",
              "\n",
              "    .dataframe thead th {\n",
              "        text-align: right;\n",
              "    }\n",
              "</style>\n",
              "<table border=\"1\" class=\"dataframe\">\n",
              "  <thead>\n",
              "    <tr style=\"text-align: right;\">\n",
              "      <th></th>\n",
              "      <th>Team</th>\n",
              "      <th>Position</th>\n",
              "      <th>Birthday</th>\n",
              "      <th>Salary</th>\n",
              "    </tr>\n",
              "    <tr>\n",
              "      <th>Name</th>\n",
              "      <th></th>\n",
              "      <th></th>\n",
              "      <th></th>\n",
              "      <th></th>\n",
              "    </tr>\n",
              "  </thead>\n",
              "  <tbody>\n",
              "    <tr>\n",
              "      <th>Shake Milton</th>\n",
              "      <td>Philadelphia 76ers</td>\n",
              "      <td>SG</td>\n",
              "      <td>1996-09-26</td>\n",
              "      <td>1445697</td>\n",
              "    </tr>\n",
              "    <tr>\n",
              "      <th>Christian Wood</th>\n",
              "      <td>Detroit Pistons</td>\n",
              "      <td>PF</td>\n",
              "      <td>1995-09-27</td>\n",
              "      <td>1645357</td>\n",
              "    </tr>\n",
              "    <tr>\n",
              "      <th>PJ Washington</th>\n",
              "      <td>Charlotte Hornets</td>\n",
              "      <td>PF</td>\n",
              "      <td>1998-08-23</td>\n",
              "      <td>3831840</td>\n",
              "    </tr>\n",
              "    <tr>\n",
              "      <th>Derrick Rose</th>\n",
              "      <td>Detroit Pistons</td>\n",
              "      <td>PG</td>\n",
              "      <td>1988-10-04</td>\n",
              "      <td>7317074</td>\n",
              "    </tr>\n",
              "    <tr>\n",
              "      <th>Marial Shayok</th>\n",
              "      <td>Philadelphia 76ers</td>\n",
              "      <td>G</td>\n",
              "      <td>1995-07-26</td>\n",
              "      <td>79568</td>\n",
              "    </tr>\n",
              "  </tbody>\n",
              "</table>\n",
              "</div>"
            ],
            "text/plain": [
              "                              Team Position   Birthday   Salary\n",
              "Name                                                           \n",
              "Shake Milton    Philadelphia 76ers       SG 1996-09-26  1445697\n",
              "Christian Wood     Detroit Pistons       PF 1995-09-27  1645357\n",
              "PJ Washington    Charlotte Hornets       PF 1998-08-23  3831840\n",
              "Derrick Rose       Detroit Pistons       PG 1988-10-04  7317074\n",
              "Marial Shayok   Philadelphia 76ers        G 1995-07-26    79568"
            ]
          },
          "metadata": {},
          "execution_count": 63
        }
      ]
    },
    {
      "cell_type": "code",
      "metadata": {
        "id": "DEaeICxL1v0U"
      },
      "source": [
        ""
      ],
      "execution_count": null,
      "outputs": []
    }
  ]
}
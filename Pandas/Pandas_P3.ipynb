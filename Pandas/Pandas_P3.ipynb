{
  "nbformat": 4,
  "nbformat_minor": 0,
  "metadata": {
    "colab": {
      "name": "Pandas_P3.ipynb",
      "provenance": [],
      "collapsed_sections": []
    },
    "kernelspec": {
      "name": "python3",
      "display_name": "Python 3"
    },
    "language_info": {
      "name": "python"
    }
  },
  "cells": [
    {
      "cell_type": "code",
      "metadata": {
        "id": "nW0cOTo0QM0o"
      },
      "source": [
        "import numpy as np\n",
        "import pandas as pd"
      ],
      "execution_count": 1,
      "outputs": []
    },
    {
      "cell_type": "markdown",
      "metadata": {
        "id": "s9Bxz7xauU2-"
      },
      "source": [
        "# Series Methods"
      ]
    },
    {
      "cell_type": "markdown",
      "metadata": {
        "id": "3MqiToZUuU8Y"
      },
      "source": [
        "- Importing CSV datasets\n",
        "- Sorting Series values in ascending and descending order\n",
        "- Retrieving the largest and smallest values in a Series\n",
        "- Mutating a Series inplace\n",
        "- Counting occurrences of unique values in a Series\n",
        "- Applying an operation to every value in a Series"
      ]
    },
    {
      "cell_type": "markdown",
      "metadata": {
        "id": "moy7zZoeuXDi"
      },
      "source": [
        "### First Import the Datasets that will be used:\n",
        "\n",
        "- pokemon.csv\n",
        "- google_stock.csv\n",
        "- Revolutionary_war.csv"
      ]
    },
    {
      "cell_type": "code",
      "metadata": {
        "id": "JfVrhRwKuXNK"
      },
      "source": [
        "#Assign the urls to variables for importation\n",
        "pokemon_url = \"https://raw.githubusercontent.com/paskhaver/pandas-in-action/master/chapter_03_series_methods/pokemon.csv\"\n",
        "google_stocks_url = \"https://raw.githubusercontent.com/paskhaver/pandas-in-action/master/chapter_03_series_methods/google_stocks.csv\"\n",
        "rev_war_url = \"https://raw.githubusercontent.com/paskhaver/pandas-in-action/master/chapter_03_series_methods/revolutionary_war.csv\""
      ],
      "execution_count": 2,
      "outputs": []
    },
    {
      "cell_type": "markdown",
      "metadata": {
        "id": "tifAjOtsuXaH"
      },
      "source": [
        "#### Assign Pokemon dataset to a DataFrame object"
      ]
    },
    {
      "cell_type": "code",
      "metadata": {
        "colab": {
          "base_uri": "https://localhost:8080/",
          "height": 419
        },
        "id": "WBwNXWpHuXi2",
        "outputId": "15317031-bb45-4d53-ea2f-35e62aff3c62"
      },
      "source": [
        "pokemon_df = pd.read_csv(pokemon_url)\n",
        "pokemon_df"
      ],
      "execution_count": 3,
      "outputs": [
        {
          "output_type": "execute_result",
          "data": {
            "text/html": [
              "<div>\n",
              "<style scoped>\n",
              "    .dataframe tbody tr th:only-of-type {\n",
              "        vertical-align: middle;\n",
              "    }\n",
              "\n",
              "    .dataframe tbody tr th {\n",
              "        vertical-align: top;\n",
              "    }\n",
              "\n",
              "    .dataframe thead th {\n",
              "        text-align: right;\n",
              "    }\n",
              "</style>\n",
              "<table border=\"1\" class=\"dataframe\">\n",
              "  <thead>\n",
              "    <tr style=\"text-align: right;\">\n",
              "      <th></th>\n",
              "      <th>Pokemon</th>\n",
              "      <th>Type</th>\n",
              "    </tr>\n",
              "  </thead>\n",
              "  <tbody>\n",
              "    <tr>\n",
              "      <th>0</th>\n",
              "      <td>Bulbasaur</td>\n",
              "      <td>Grass / Poison</td>\n",
              "    </tr>\n",
              "    <tr>\n",
              "      <th>1</th>\n",
              "      <td>Ivysaur</td>\n",
              "      <td>Grass / Poison</td>\n",
              "    </tr>\n",
              "    <tr>\n",
              "      <th>2</th>\n",
              "      <td>Venusaur</td>\n",
              "      <td>Grass / Poison</td>\n",
              "    </tr>\n",
              "    <tr>\n",
              "      <th>3</th>\n",
              "      <td>Charmander</td>\n",
              "      <td>Fire</td>\n",
              "    </tr>\n",
              "    <tr>\n",
              "      <th>4</th>\n",
              "      <td>Charmeleon</td>\n",
              "      <td>Fire</td>\n",
              "    </tr>\n",
              "    <tr>\n",
              "      <th>...</th>\n",
              "      <td>...</td>\n",
              "      <td>...</td>\n",
              "    </tr>\n",
              "    <tr>\n",
              "      <th>804</th>\n",
              "      <td>Stakataka</td>\n",
              "      <td>Rock / Steel</td>\n",
              "    </tr>\n",
              "    <tr>\n",
              "      <th>805</th>\n",
              "      <td>Blacephalon</td>\n",
              "      <td>Fire / Ghost</td>\n",
              "    </tr>\n",
              "    <tr>\n",
              "      <th>806</th>\n",
              "      <td>Zeraora</td>\n",
              "      <td>Electric</td>\n",
              "    </tr>\n",
              "    <tr>\n",
              "      <th>807</th>\n",
              "      <td>Meltan</td>\n",
              "      <td>Steel</td>\n",
              "    </tr>\n",
              "    <tr>\n",
              "      <th>808</th>\n",
              "      <td>Melmetal</td>\n",
              "      <td>Steel</td>\n",
              "    </tr>\n",
              "  </tbody>\n",
              "</table>\n",
              "<p>809 rows × 2 columns</p>\n",
              "</div>"
            ],
            "text/plain": [
              "         Pokemon            Type\n",
              "0      Bulbasaur  Grass / Poison\n",
              "1        Ivysaur  Grass / Poison\n",
              "2       Venusaur  Grass / Poison\n",
              "3     Charmander            Fire\n",
              "4     Charmeleon            Fire\n",
              "..           ...             ...\n",
              "804    Stakataka    Rock / Steel\n",
              "805  Blacephalon    Fire / Ghost\n",
              "806      Zeraora        Electric\n",
              "807       Meltan           Steel\n",
              "808     Melmetal           Steel\n",
              "\n",
              "[809 rows x 2 columns]"
            ]
          },
          "metadata": {},
          "execution_count": 3
        }
      ]
    },
    {
      "cell_type": "markdown",
      "metadata": {
        "id": "Xs6WJzMiuX2A"
      },
      "source": [
        "To render it as a Series object instead, we can use the pokemon names as index when passing in the index to index_col parameter. As well as passing in squeeze parameter as True"
      ]
    },
    {
      "cell_type": "code",
      "metadata": {
        "colab": {
          "base_uri": "https://localhost:8080/"
        },
        "id": "Q87O9DAIuX7v",
        "outputId": "851b2517-567c-4556-f019-94d7ea2b2a69"
      },
      "source": [
        "pokemon_series = pd.read_csv(pokemon_url, index_col=\"Pokemon\", squeeze=True)\n",
        "pokemon_series"
      ],
      "execution_count": 4,
      "outputs": [
        {
          "output_type": "execute_result",
          "data": {
            "text/plain": [
              "Pokemon\n",
              "Bulbasaur      Grass / Poison\n",
              "Ivysaur        Grass / Poison\n",
              "Venusaur       Grass / Poison\n",
              "Charmander               Fire\n",
              "Charmeleon               Fire\n",
              "                    ...      \n",
              "Stakataka        Rock / Steel\n",
              "Blacephalon      Fire / Ghost\n",
              "Zeraora              Electric\n",
              "Meltan                  Steel\n",
              "Melmetal                Steel\n",
              "Name: Type, Length: 809, dtype: object"
            ]
          },
          "metadata": {},
          "execution_count": 4
        }
      ]
    },
    {
      "cell_type": "markdown",
      "metadata": {
        "id": "6UqXwWTzuYA6"
      },
      "source": [
        "Google_Stocks Dataset has only numeric values and datetime. Dates are strings as default, so need to assign parse_dates parameters with column name to convert it\n"
      ]
    },
    {
      "cell_type": "code",
      "metadata": {
        "colab": {
          "base_uri": "https://localhost:8080/"
        },
        "id": "Y7s8hFgHuYHg",
        "outputId": "e6d33d6d-f857-4f76-8aaa-b2b0f76004c7"
      },
      "source": [
        "google_stocks = pd.read_csv(google_stocks_url, index_col=\"Date\",\n",
        "                            parse_dates=[\"Date\"], squeeze = True)\n",
        "google_stocks.head()"
      ],
      "execution_count": 5,
      "outputs": [
        {
          "output_type": "execute_result",
          "data": {
            "text/plain": [
              "Date\n",
              "2004-08-19    49.98\n",
              "2004-08-20    53.95\n",
              "2004-08-23    54.50\n",
              "2004-08-24    52.24\n",
              "2004-08-25    52.80\n",
              "Name: Close, dtype: float64"
            ]
          },
          "metadata": {},
          "execution_count": 5
        }
      ]
    },
    {
      "cell_type": "markdown",
      "metadata": {
        "id": "Ve_9VANLuYOW"
      },
      "source": [
        "The Revolutionary war dataset contains 3 columns, so to extract a series, we want to use one column as an index and and the other as values. We will convert the date values first as the index and the States as the values. we will pass in the parameter usecols= to select our 2 columns and then squeeze=True to convert it to series"
      ]
    },
    {
      "cell_type": "code",
      "metadata": {
        "id": "g8PRMJ1luYTg"
      },
      "source": [
        "rev_wars = pd.read_csv(rev_war_url, index_col = \"Start Date\",\n",
        "            parse_dates = [\"Start Date\"],\n",
        "            usecols = [\"State\", \"Start Date\"],\n",
        "            squeeze = True)\n",
        " "
      ],
      "execution_count": 6,
      "outputs": []
    },
    {
      "cell_type": "markdown",
      "metadata": {
        "id": "m5CNuKz1TdLI"
      },
      "source": [
        "### There are 2 main methods of sorting a series. \n",
        "Can use \n",
        "- the sort_values() which will organize the values  or \n",
        "- the sort_index() which will sort the index values \n",
        "\n",
        "both methods will sort in ascending order, but can be descending if set the parameter ascending=False"
      ]
    },
    {
      "cell_type": "code",
      "metadata": {
        "colab": {
          "base_uri": "https://localhost:8080/"
        },
        "id": "gG312gsCUi_4",
        "outputId": "043c08ea-415f-409c-d98b-b95405ddca79"
      },
      "source": [
        "pokemon_series.sort_values()"
      ],
      "execution_count": 7,
      "outputs": [
        {
          "output_type": "execute_result",
          "data": {
            "text/plain": [
              "Pokemon\n",
              "Illumise                Bug\n",
              "Silcoon                 Bug\n",
              "Pinsir                  Bug\n",
              "Burmy                   Bug\n",
              "Wurmple                 Bug\n",
              "                  ...      \n",
              "Tirtouga       Water / Rock\n",
              "Relicanth      Water / Rock\n",
              "Corsola        Water / Rock\n",
              "Carracosta     Water / Rock\n",
              "Empoleon      Water / Steel\n",
              "Name: Type, Length: 809, dtype: object"
            ]
          },
          "metadata": {},
          "execution_count": 7
        }
      ]
    },
    {
      "cell_type": "markdown",
      "metadata": {
        "id": "KzNbIyLjUBEx"
      },
      "source": [
        "### Can extract the smallest or largest values\n",
        "Can use \n",
        "- either .nsmallest(n) to extract the n amount of smallest values\n",
        "or \n",
        "- the .nlargest(n) to extract the n amount of largest values\n",
        "\n",
        "the default amount is 5"
      ]
    },
    {
      "cell_type": "code",
      "metadata": {
        "colab": {
          "base_uri": "https://localhost:8080/"
        },
        "id": "1iJiGYATTbNP",
        "outputId": "2e05b9a6-e330-4c80-e5a1-616be0bc0acd"
      },
      "source": [
        "google_stocks.nlargest(10)"
      ],
      "execution_count": 8,
      "outputs": [
        {
          "output_type": "execute_result",
          "data": {
            "text/plain": [
              "Date\n",
              "2019-04-29    1287.58\n",
              "2019-04-26    1272.18\n",
              "2018-07-26    1268.33\n",
              "2019-10-25    1265.13\n",
              "2019-04-23    1264.55\n",
              "2018-07-25    1263.70\n",
              "2019-04-25    1263.45\n",
              "2019-10-24    1260.99\n",
              "2019-10-23    1259.13\n",
              "2019-04-24    1256.00\n",
              "Name: Close, dtype: float64"
            ]
          },
          "metadata": {},
          "execution_count": 8
        }
      ]
    },
    {
      "cell_type": "markdown",
      "metadata": {
        "id": "2WuWLukQTZyT"
      },
      "source": [
        "### Counting Values"
      ]
    },
    {
      "cell_type": "code",
      "metadata": {
        "colab": {
          "base_uri": "https://localhost:8080/"
        },
        "id": "2ML4ZkduS7Qf",
        "outputId": "8be2efde-daa9-4108-e7f6-093f3e9d55a3"
      },
      "source": [
        "#To get counts of rows with same labels\n",
        "pokemon_series.value_counts()"
      ],
      "execution_count": 9,
      "outputs": [
        {
          "output_type": "execute_result",
          "data": {
            "text/plain": [
              "Normal               65\n",
              "Water                61\n",
              "Grass                38\n",
              "Psychic              35\n",
              "Fire                 30\n",
              "                     ..\n",
              "Dragon / Electric     1\n",
              "Fire / Dark           1\n",
              "Ground / Electric     1\n",
              "Fighting / Flying     1\n",
              "Fire / Psychic        1\n",
              "Name: Type, Length: 159, dtype: int64"
            ]
          },
          "metadata": {},
          "execution_count": 9
        }
      ]
    },
    {
      "cell_type": "code",
      "metadata": {
        "colab": {
          "base_uri": "https://localhost:8080/"
        },
        "id": "WLkx-kZz8E49",
        "outputId": "f928ec64-eef4-442b-a9b5-5453bc2541c9"
      },
      "source": [
        "#Can also normalize to find percentage of each label within series\n",
        "#Multiply by 100 and round to 2ecimal points to convert from decimal to percent\n",
        "(pokemon_series.value_counts(normalize=True)*100).round(2)"
      ],
      "execution_count": 10,
      "outputs": [
        {
          "output_type": "execute_result",
          "data": {
            "text/plain": [
              "Normal               8.03\n",
              "Water                7.54\n",
              "Grass                4.70\n",
              "Psychic              4.33\n",
              "Fire                 3.71\n",
              "                     ... \n",
              "Dragon / Electric    0.12\n",
              "Fire / Dark          0.12\n",
              "Ground / Electric    0.12\n",
              "Fighting / Flying    0.12\n",
              "Fire / Psychic       0.12\n",
              "Name: Type, Length: 159, dtype: float64"
            ]
          },
          "metadata": {},
          "execution_count": 10
        }
      ]
    },
    {
      "cell_type": "code",
      "metadata": {
        "colab": {
          "base_uri": "https://localhost:8080/"
        },
        "id": "IfExyyto8VZK",
        "outputId": "820baabe-67ae-4fe7-aade-37bd24cc46e1"
      },
      "source": [
        "#Can Group stock prices into bucket with ranges,\n",
        "#This can help group ranges for better visualization\n",
        "#Then sort in ascending order by passing parameter sort as False\n",
        "bins = np.arange(0,1600,200)\n",
        "google_stocks.value_counts(bins=bins, sort=False)"
      ],
      "execution_count": 11,
      "outputs": [
        {
          "output_type": "execute_result",
          "data": {
            "text/plain": [
              "(-0.001, 200.0]      595\n",
              "(200.0, 400.0]      1568\n",
              "(400.0, 600.0]       575\n",
              "(600.0, 800.0]       380\n",
              "(800.0, 1000.0]      207\n",
              "(1000.0, 1200.0]     406\n",
              "(1200.0, 1400.0]      93\n",
              "Name: Close, dtype: int64"
            ]
          },
          "metadata": {},
          "execution_count": 11
        }
      ]
    },
    {
      "cell_type": "code",
      "metadata": {
        "colab": {
          "base_uri": "https://localhost:8080/"
        },
        "id": "6uQxEqfV8xV1",
        "outputId": "7e1420f8-66e9-41f4-a86f-a086c74746a6"
      },
      "source": [
        "#Can also Group bins by passing the amount of bins \n",
        "#Rather than specifying the ranges beforehand\n",
        "#The disadvantage is that the bins aren't equal width \n",
        "google_stocks.value_counts(bins=6, sort=False)"
      ],
      "execution_count": 12,
      "outputs": [
        {
          "output_type": "execute_result",
          "data": {
            "text/plain": [
              "(48.581, 256.113]      1204\n",
              "(256.113, 462.407]     1104\n",
              "(462.407, 668.7]        507\n",
              "(668.7, 874.993]        380\n",
              "(874.993, 1081.287]     292\n",
              "(1081.287, 1287.58]     337\n",
              "Name: Close, dtype: int64"
            ]
          },
          "metadata": {},
          "execution_count": 12
        }
      ]
    },
    {
      "cell_type": "markdown",
      "metadata": {
        "id": "p6qEKGiJEhgg"
      },
      "source": [
        "### Functions on Series"
      ]
    },
    {
      "cell_type": "code",
      "metadata": {
        "colab": {
          "base_uri": "https://localhost:8080/"
        },
        "id": "5NSI6aMLCZPj",
        "outputId": "3dd41e76-94cc-4154-dd60-f447ac7b1ea6"
      },
      "source": [
        "#Apply a function on every value within the series using .apply()\n",
        "google_stocks.apply(func=round)"
      ],
      "execution_count": 13,
      "outputs": [
        {
          "output_type": "execute_result",
          "data": {
            "text/plain": [
              "Date\n",
              "2004-08-19      50\n",
              "2004-08-20      54\n",
              "2004-08-23      54\n",
              "2004-08-24      52\n",
              "2004-08-25      53\n",
              "              ... \n",
              "2019-10-21    1246\n",
              "2019-10-22    1243\n",
              "2019-10-23    1259\n",
              "2019-10-24    1261\n",
              "2019-10-25    1265\n",
              "Name: Close, Length: 3824, dtype: int64"
            ]
          },
          "metadata": {},
          "execution_count": 13
        }
      ]
    },
    {
      "cell_type": "code",
      "metadata": {
        "colab": {
          "base_uri": "https://localhost:8080/"
        },
        "id": "5EjHT2KPEuMA",
        "outputId": "bd762c93-e583-408b-bab5-53a27ef5aa6e"
      },
      "source": [
        "#Can also pass in a new function \n",
        "#To find if a pokemon has one type or two build func\n",
        "\n",
        "def single_or_multi(types):\n",
        "  if \"/\" in types:\n",
        "    return \"Multi\"\n",
        "  return \"Single\"\n",
        "\n",
        "#This function will check if the type has a \"/\" which indicates multiple types\n",
        "pokemon_series.apply(single_or_multi)"
      ],
      "execution_count": 14,
      "outputs": [
        {
          "output_type": "execute_result",
          "data": {
            "text/plain": [
              "Pokemon\n",
              "Bulbasaur       Multi\n",
              "Ivysaur         Multi\n",
              "Venusaur        Multi\n",
              "Charmander     Single\n",
              "Charmeleon     Single\n",
              "                ...  \n",
              "Stakataka       Multi\n",
              "Blacephalon     Multi\n",
              "Zeraora        Single\n",
              "Meltan         Single\n",
              "Melmetal       Single\n",
              "Name: Type, Length: 809, dtype: object"
            ]
          },
          "metadata": {},
          "execution_count": 14
        }
      ]
    },
    {
      "cell_type": "code",
      "metadata": {
        "colab": {
          "base_uri": "https://localhost:8080/"
        },
        "id": "vwTrBuLRllif",
        "outputId": "035c04ea-0775-4e48-cd81-76cfa5841ef1"
      },
      "source": [
        "#Then we can summarize the count with .value_counts()\n",
        "pokemon_series.apply(single_or_multi).value_counts()"
      ],
      "execution_count": 15,
      "outputs": [
        {
          "output_type": "execute_result",
          "data": {
            "text/plain": [
              "Multi     405\n",
              "Single    404\n",
              "Name: Type, dtype: int64"
            ]
          },
          "metadata": {},
          "execution_count": 15
        }
      ]
    },
    {
      "cell_type": "code",
      "metadata": {
        "colab": {
          "base_uri": "https://localhost:8080/"
        },
        "id": "wxvgG52FlvnP",
        "outputId": "c2365c6e-6094-4544-bb77-f9e490f1c940"
      },
      "source": [
        "#Find out which day of the week had the most battles in Rev_War\n",
        "#use hint\n",
        "\"\"\"\n",
        "from datetime import datetime\n",
        "today=datetime.now()\n",
        "today.strftime('%A')\n",
        "\"\"\""
      ],
      "execution_count": 17,
      "outputs": [
        {
          "output_type": "execute_result",
          "data": {
            "text/plain": [
              "Start Date\n",
              "1774-09-01    Massachusetts\n",
              "1774-12-14    New Hampshire\n",
              "1775-04-19    Massachusetts\n",
              "1775-04-19    Massachusetts\n",
              "1775-04-20         Virginia\n",
              "Name: State, dtype: object"
            ]
          },
          "metadata": {},
          "execution_count": 17
        }
      ]
    },
    {
      "cell_type": "code",
      "metadata": {
        "colab": {
          "base_uri": "https://localhost:8080/"
        },
        "id": "G8tkpp3tmE4b",
        "outputId": "cce00462-850c-46b2-e7f8-023f5a2c6bc8"
      },
      "source": [
        "#First Reassign rev_wars with imported data and remove State features\n",
        "#This will return only the dates within the dataset\n",
        "rev_wars = pd.read_csv(rev_war_url,\n",
        "            parse_dates = [\"Start Date\"],\n",
        "            usecols = [\"Start Date\"],\n",
        "            squeeze = True)\n",
        "\n",
        "rev_wars.head()"
      ],
      "execution_count": 22,
      "outputs": [
        {
          "output_type": "execute_result",
          "data": {
            "text/plain": [
              "0   1774-09-01\n",
              "1   1774-12-14\n",
              "2   1775-04-19\n",
              "3   1775-04-19\n",
              "4   1775-04-20\n",
              "Name: Start Date, dtype: datetime64[ns]"
            ]
          },
          "metadata": {},
          "execution_count": 22
        }
      ]
    },
    {
      "cell_type": "code",
      "metadata": {
        "colab": {
          "base_uri": "https://localhost:8080/"
        },
        "id": "fDnb2_Djmqyi",
        "outputId": "560dcafb-3262-4b78-a8d6-bc1573af89c2"
      },
      "source": [
        "#then use above hint to extract specific days of the week\n",
        "#create a function to apply to each date\n",
        "def day_of_week(date):\n",
        "  return date.strftime('%A')\n",
        "\n",
        "#Use .dropna() to avoid missing values\n",
        "rev_wars.dropna().apply(day_of_week)"
      ],
      "execution_count": 24,
      "outputs": [
        {
          "output_type": "execute_result",
          "data": {
            "text/plain": [
              "0       Thursday\n",
              "1      Wednesday\n",
              "2      Wednesday\n",
              "3      Wednesday\n",
              "4       Thursday\n",
              "         ...    \n",
              "227    Wednesday\n",
              "228       Friday\n",
              "229       Friday\n",
              "230       Friday\n",
              "231    Wednesday\n",
              "Name: Start Date, Length: 228, dtype: object"
            ]
          },
          "metadata": {},
          "execution_count": 24
        }
      ]
    },
    {
      "cell_type": "code",
      "metadata": {
        "colab": {
          "base_uri": "https://localhost:8080/"
        },
        "id": "IQGgyARHnHrZ",
        "outputId": "22b48585-7bef-4ec4-a4a1-510eff32a9a4"
      },
      "source": [
        "#Then to find the counts apply .value_counts()\n",
        "rev_wars.dropna().apply(day_of_week).value_counts()\n"
      ],
      "execution_count": 25,
      "outputs": [
        {
          "output_type": "execute_result",
          "data": {
            "text/plain": [
              "Saturday     39\n",
              "Friday       39\n",
              "Wednesday    32\n",
              "Thursday     31\n",
              "Sunday       31\n",
              "Tuesday      29\n",
              "Monday       27\n",
              "Name: Start Date, dtype: int64"
            ]
          },
          "metadata": {},
          "execution_count": 25
        }
      ]
    },
    {
      "cell_type": "code",
      "metadata": {
        "id": "IAlOk0Snnght"
      },
      "source": [
        ""
      ],
      "execution_count": null,
      "outputs": []
    }
  ]
}
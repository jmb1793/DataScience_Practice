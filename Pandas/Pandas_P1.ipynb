{
  "nbformat": 4,
  "nbformat_minor": 0,
  "metadata": {
    "colab": {
      "name": "Pandas_P1",
      "provenance": []
    },
    "kernelspec": {
      "name": "python3",
      "display_name": "Python 3"
    },
    "language_info": {
      "name": "python"
    }
  },
  "cells": [
    {
      "cell_type": "markdown",
      "metadata": {
        "id": "5MZsQV_7hdLS"
      },
      "source": [
        "<h2>This NoteBook is Part 1 of studying Pandas Library and improving skills</h2>\n",
        "\n",
        "<h4>In Part 1</h4>\n",
        "\n",
        "- Importing a Dataset\n",
        "- Manipulating a Dataframe\n",
        "- Counting Values in a Series\n",
        "- Filtering a Column by One or More Criteria\n",
        "- Grouping Data \n",
        "\n"
      ]
    },
    {
      "cell_type": "code",
      "metadata": {
        "id": "9eItG58Kh6jL"
      },
      "source": [
        "#Import Numpy and Panda Libraries\n",
        "import numpy as np\n",
        "import pandas as pd"
      ],
      "execution_count": 1,
      "outputs": []
    },
    {
      "cell_type": "code",
      "metadata": {
        "id": "AYj4yEZjiFd9"
      },
      "source": [
        "#Import the dataset\n",
        "url = \"https://raw.githubusercontent.com/paskhaver/pandas-in-action/master/chapter_01_introducing_pandas/movies.csv\"\n",
        "df = pd.read_csv(url)"
      ],
      "execution_count": 2,
      "outputs": []
    },
    {
      "cell_type": "code",
      "metadata": {
        "colab": {
          "base_uri": "https://localhost:8080/",
          "height": 204
        },
        "id": "Y91EPZTuoCjQ",
        "outputId": "8a3db627-a088-4a77-c14e-6ceb3cd99643"
      },
      "source": [
        "df.head()"
      ],
      "execution_count": 3,
      "outputs": [
        {
          "output_type": "execute_result",
          "data": {
            "text/html": [
              "<div>\n",
              "<style scoped>\n",
              "    .dataframe tbody tr th:only-of-type {\n",
              "        vertical-align: middle;\n",
              "    }\n",
              "\n",
              "    .dataframe tbody tr th {\n",
              "        vertical-align: top;\n",
              "    }\n",
              "\n",
              "    .dataframe thead th {\n",
              "        text-align: right;\n",
              "    }\n",
              "</style>\n",
              "<table border=\"1\" class=\"dataframe\">\n",
              "  <thead>\n",
              "    <tr style=\"text-align: right;\">\n",
              "      <th></th>\n",
              "      <th>Rank</th>\n",
              "      <th>Title</th>\n",
              "      <th>Studio</th>\n",
              "      <th>Gross</th>\n",
              "      <th>Year</th>\n",
              "    </tr>\n",
              "  </thead>\n",
              "  <tbody>\n",
              "    <tr>\n",
              "      <th>0</th>\n",
              "      <td>1</td>\n",
              "      <td>Avengers: Endgame</td>\n",
              "      <td>Buena Vista</td>\n",
              "      <td>$2,796.30</td>\n",
              "      <td>2019</td>\n",
              "    </tr>\n",
              "    <tr>\n",
              "      <th>1</th>\n",
              "      <td>2</td>\n",
              "      <td>Avatar</td>\n",
              "      <td>Fox</td>\n",
              "      <td>$2,789.70</td>\n",
              "      <td>2009</td>\n",
              "    </tr>\n",
              "    <tr>\n",
              "      <th>2</th>\n",
              "      <td>3</td>\n",
              "      <td>Titanic</td>\n",
              "      <td>Paramount</td>\n",
              "      <td>$2,187.50</td>\n",
              "      <td>1997</td>\n",
              "    </tr>\n",
              "    <tr>\n",
              "      <th>3</th>\n",
              "      <td>4</td>\n",
              "      <td>Star Wars: The Force Awakens</td>\n",
              "      <td>Buena Vista</td>\n",
              "      <td>$2,068.20</td>\n",
              "      <td>2015</td>\n",
              "    </tr>\n",
              "    <tr>\n",
              "      <th>4</th>\n",
              "      <td>5</td>\n",
              "      <td>Avengers: Infinity War</td>\n",
              "      <td>Buena Vista</td>\n",
              "      <td>$2,048.40</td>\n",
              "      <td>2018</td>\n",
              "    </tr>\n",
              "  </tbody>\n",
              "</table>\n",
              "</div>"
            ],
            "text/plain": [
              "   Rank                         Title       Studio       Gross  Year\n",
              "0     1             Avengers: Endgame  Buena Vista  $2,796.30   2019\n",
              "1     2                        Avatar          Fox  $2,789.70   2009\n",
              "2     3                       Titanic    Paramount  $2,187.50   1997\n",
              "3     4  Star Wars: The Force Awakens  Buena Vista  $2,068.20   2015\n",
              "4     5        Avengers: Infinity War  Buena Vista  $2,048.40   2018"
            ]
          },
          "metadata": {},
          "execution_count": 3
        }
      ]
    },
    {
      "cell_type": "code",
      "metadata": {
        "id": "jZIlAD6epTvQ"
      },
      "source": [
        "#Instead of autoindex, can preset index values\n",
        "df = pd.read_csv(url, index_col=\"Title\")"
      ],
      "execution_count": 12,
      "outputs": []
    },
    {
      "cell_type": "code",
      "metadata": {
        "colab": {
          "base_uri": "https://localhost:8080/"
        },
        "id": "gqmylpsqoEg7",
        "outputId": "9cc1d07d-5fd6-4bf6-e179-903d74abc501"
      },
      "source": [
        "#To Count Number of Rows\n",
        "print(len(df))\n",
        "\n",
        "#To Print number of rows and columns\n",
        "print(df.shape)\n"
      ],
      "execution_count": 13,
      "outputs": [
        {
          "output_type": "stream",
          "name": "stdout",
          "text": [
            "782\n",
            "(782, 4)\n"
          ]
        }
      ]
    },
    {
      "cell_type": "code",
      "metadata": {
        "colab": {
          "base_uri": "https://localhost:8080/"
        },
        "id": "7T7qNCBZohrF",
        "outputId": "e4349f22-d627-4b60-8fbb-2ec3e7918a9d"
      },
      "source": [
        "#To view the type of data within the dataframe\n",
        "df.dtypes"
      ],
      "execution_count": 14,
      "outputs": [
        {
          "output_type": "execute_result",
          "data": {
            "text/plain": [
              "Rank       int64\n",
              "Studio    object\n",
              "Gross     object\n",
              "Year       int64\n",
              "dtype: object"
            ]
          },
          "metadata": {},
          "execution_count": 14
        }
      ]
    },
    {
      "cell_type": "code",
      "metadata": {
        "colab": {
          "base_uri": "https://localhost:8080/"
        },
        "id": "R3zonn1CopKc",
        "outputId": "c3b19671-ef2e-47f6-e895-92c977296aa5"
      },
      "source": [
        "#To extract a row by its index position, use .iloc[#]\n",
        "df.iloc[499]"
      ],
      "execution_count": 15,
      "outputs": [
        {
          "output_type": "execute_result",
          "data": {
            "text/plain": [
              "Rank           500\n",
              "Studio         Fox\n",
              "Gross     $288.30 \n",
              "Year          2018\n",
              "Name: Maze Runner: The Death Cure, dtype: object"
            ]
          },
          "metadata": {},
          "execution_count": 15
        }
      ]
    },
    {
      "cell_type": "code",
      "metadata": {
        "colab": {
          "base_uri": "https://localhost:8080/"
        },
        "id": "_dXSTv5qoyKY",
        "outputId": "94d5c00a-81c8-419f-bf8e-9621eb6d99fa"
      },
      "source": [
        "#Can Also use index label to access the row\n",
        "df.loc[\"Forrest Gump\"]"
      ],
      "execution_count": 17,
      "outputs": [
        {
          "output_type": "execute_result",
          "data": {
            "text/plain": [
              "Rank            119\n",
              "Studio    Paramount\n",
              "Gross      $677.90 \n",
              "Year           1994\n",
              "Name: Forrest Gump, dtype: object"
            ]
          },
          "metadata": {},
          "execution_count": 17
        }
      ]
    },
    {
      "cell_type": "code",
      "metadata": {
        "colab": {
          "base_uri": "https://localhost:8080/",
          "height": 235
        },
        "id": "oL1d6N8JpFXC",
        "outputId": "75e88430-d195-4a6f-de0d-6b6b1ee9cd5d"
      },
      "source": [
        "#Dataframe is auto sorted (by Rank for this dataset)\n",
        "#Can resort, or view in particular order\n",
        "df.sort_values(by=\"Year\",ascending=False).head() #False to make is descending"
      ],
      "execution_count": 19,
      "outputs": [
        {
          "output_type": "execute_result",
          "data": {
            "text/html": [
              "<div>\n",
              "<style scoped>\n",
              "    .dataframe tbody tr th:only-of-type {\n",
              "        vertical-align: middle;\n",
              "    }\n",
              "\n",
              "    .dataframe tbody tr th {\n",
              "        vertical-align: top;\n",
              "    }\n",
              "\n",
              "    .dataframe thead th {\n",
              "        text-align: right;\n",
              "    }\n",
              "</style>\n",
              "<table border=\"1\" class=\"dataframe\">\n",
              "  <thead>\n",
              "    <tr style=\"text-align: right;\">\n",
              "      <th></th>\n",
              "      <th>Rank</th>\n",
              "      <th>Studio</th>\n",
              "      <th>Gross</th>\n",
              "      <th>Year</th>\n",
              "    </tr>\n",
              "    <tr>\n",
              "      <th>Title</th>\n",
              "      <th></th>\n",
              "      <th></th>\n",
              "      <th></th>\n",
              "      <th></th>\n",
              "    </tr>\n",
              "  </thead>\n",
              "  <tbody>\n",
              "    <tr>\n",
              "      <th>Avengers: Endgame</th>\n",
              "      <td>1</td>\n",
              "      <td>Buena Vista</td>\n",
              "      <td>$2,796.30</td>\n",
              "      <td>2019</td>\n",
              "    </tr>\n",
              "    <tr>\n",
              "      <th>John Wick: Chapter 3 - Parabellum</th>\n",
              "      <td>458</td>\n",
              "      <td>Lionsgate</td>\n",
              "      <td>$304.70</td>\n",
              "      <td>2019</td>\n",
              "    </tr>\n",
              "    <tr>\n",
              "      <th>The Wandering Earth</th>\n",
              "      <td>114</td>\n",
              "      <td>China Film Corporation</td>\n",
              "      <td>$699.80</td>\n",
              "      <td>2019</td>\n",
              "    </tr>\n",
              "    <tr>\n",
              "      <th>Toy Story 4</th>\n",
              "      <td>198</td>\n",
              "      <td>Buena Vista</td>\n",
              "      <td>$519.80</td>\n",
              "      <td>2019</td>\n",
              "    </tr>\n",
              "    <tr>\n",
              "      <th>How to Train Your Dragon: The Hidden World</th>\n",
              "      <td>199</td>\n",
              "      <td>Universal</td>\n",
              "      <td>$519.80</td>\n",
              "      <td>2019</td>\n",
              "    </tr>\n",
              "  </tbody>\n",
              "</table>\n",
              "</div>"
            ],
            "text/plain": [
              "                                            Rank  ...  Year\n",
              "Title                                             ...      \n",
              "Avengers: Endgame                              1  ...  2019\n",
              "John Wick: Chapter 3 - Parabellum            458  ...  2019\n",
              "The Wandering Earth                          114  ...  2019\n",
              "Toy Story 4                                  198  ...  2019\n",
              "How to Train Your Dragon: The Hidden World   199  ...  2019\n",
              "\n",
              "[5 rows x 4 columns]"
            ]
          },
          "metadata": {},
          "execution_count": 19
        }
      ]
    },
    {
      "cell_type": "code",
      "metadata": {
        "colab": {
          "base_uri": "https://localhost:8080/",
          "height": 235
        },
        "id": "XvcS4Rr-p6ZP",
        "outputId": "7a1fc8e5-5d5c-4a3a-b412-ec5514d77c35"
      },
      "source": [
        "#Can also Sort by multiple values\n",
        "df.sort_values(by=[\"Studio\",\"Year\"]).head()"
      ],
      "execution_count": 20,
      "outputs": [
        {
          "output_type": "execute_result",
          "data": {
            "text/html": [
              "<div>\n",
              "<style scoped>\n",
              "    .dataframe tbody tr th:only-of-type {\n",
              "        vertical-align: middle;\n",
              "    }\n",
              "\n",
              "    .dataframe tbody tr th {\n",
              "        vertical-align: top;\n",
              "    }\n",
              "\n",
              "    .dataframe thead th {\n",
              "        text-align: right;\n",
              "    }\n",
              "</style>\n",
              "<table border=\"1\" class=\"dataframe\">\n",
              "  <thead>\n",
              "    <tr style=\"text-align: right;\">\n",
              "      <th></th>\n",
              "      <th>Rank</th>\n",
              "      <th>Studio</th>\n",
              "      <th>Gross</th>\n",
              "      <th>Year</th>\n",
              "    </tr>\n",
              "    <tr>\n",
              "      <th>Title</th>\n",
              "      <th></th>\n",
              "      <th></th>\n",
              "      <th></th>\n",
              "      <th></th>\n",
              "    </tr>\n",
              "  </thead>\n",
              "  <tbody>\n",
              "    <tr>\n",
              "      <th>The Blair Witch Project</th>\n",
              "      <td>588</td>\n",
              "      <td>Artisan</td>\n",
              "      <td>$248.60</td>\n",
              "      <td>1999</td>\n",
              "    </tr>\n",
              "    <tr>\n",
              "      <th>101 Dalmatians</th>\n",
              "      <td>708</td>\n",
              "      <td>Buena Vista</td>\n",
              "      <td>$215.90</td>\n",
              "      <td>1961</td>\n",
              "    </tr>\n",
              "    <tr>\n",
              "      <th>The Jungle Book</th>\n",
              "      <td>755</td>\n",
              "      <td>Buena Vista</td>\n",
              "      <td>$205.80</td>\n",
              "      <td>1967</td>\n",
              "    </tr>\n",
              "    <tr>\n",
              "      <th>Who Framed Roger Rabbit</th>\n",
              "      <td>410</td>\n",
              "      <td>Buena Vista</td>\n",
              "      <td>$329.80</td>\n",
              "      <td>1988</td>\n",
              "    </tr>\n",
              "    <tr>\n",
              "      <th>Dead Poets Society</th>\n",
              "      <td>636</td>\n",
              "      <td>Buena Vista</td>\n",
              "      <td>$235.90</td>\n",
              "      <td>1989</td>\n",
              "    </tr>\n",
              "  </tbody>\n",
              "</table>\n",
              "</div>"
            ],
            "text/plain": [
              "                         Rank       Studio     Gross  Year\n",
              "Title                                                     \n",
              "The Blair Witch Project   588      Artisan  $248.60   1999\n",
              "101 Dalmatians            708  Buena Vista  $215.90   1961\n",
              "The Jungle Book           755  Buena Vista  $205.80   1967\n",
              "Who Framed Roger Rabbit   410  Buena Vista  $329.80   1988\n",
              "Dead Poets Society        636  Buena Vista  $235.90   1989"
            ]
          },
          "metadata": {},
          "execution_count": 20
        }
      ]
    },
    {
      "cell_type": "code",
      "metadata": {
        "colab": {
          "base_uri": "https://localhost:8080/",
          "height": 235
        },
        "id": "V18t0kTBqK_H",
        "outputId": "88f2c71b-6c6b-4c75-92fb-a1a98b19d446"
      },
      "source": [
        "#Can also sort by index, which can alphabetize\n",
        "df.sort_index().head()"
      ],
      "execution_count": 22,
      "outputs": [
        {
          "output_type": "execute_result",
          "data": {
            "text/html": [
              "<div>\n",
              "<style scoped>\n",
              "    .dataframe tbody tr th:only-of-type {\n",
              "        vertical-align: middle;\n",
              "    }\n",
              "\n",
              "    .dataframe tbody tr th {\n",
              "        vertical-align: top;\n",
              "    }\n",
              "\n",
              "    .dataframe thead th {\n",
              "        text-align: right;\n",
              "    }\n",
              "</style>\n",
              "<table border=\"1\" class=\"dataframe\">\n",
              "  <thead>\n",
              "    <tr style=\"text-align: right;\">\n",
              "      <th></th>\n",
              "      <th>Rank</th>\n",
              "      <th>Studio</th>\n",
              "      <th>Gross</th>\n",
              "      <th>Year</th>\n",
              "    </tr>\n",
              "    <tr>\n",
              "      <th>Title</th>\n",
              "      <th></th>\n",
              "      <th></th>\n",
              "      <th></th>\n",
              "      <th></th>\n",
              "    </tr>\n",
              "  </thead>\n",
              "  <tbody>\n",
              "    <tr>\n",
              "      <th>10,000 B.C.</th>\n",
              "      <td>536</td>\n",
              "      <td>Warner Brothers</td>\n",
              "      <td>$269.80</td>\n",
              "      <td>2008</td>\n",
              "    </tr>\n",
              "    <tr>\n",
              "      <th>101 Dalmatians</th>\n",
              "      <td>708</td>\n",
              "      <td>Buena Vista</td>\n",
              "      <td>$215.90</td>\n",
              "      <td>1961</td>\n",
              "    </tr>\n",
              "    <tr>\n",
              "      <th>101 Dalmatians</th>\n",
              "      <td>425</td>\n",
              "      <td>Buena Vista</td>\n",
              "      <td>$320.70</td>\n",
              "      <td>1996</td>\n",
              "    </tr>\n",
              "    <tr>\n",
              "      <th>2 Fast 2 Furious</th>\n",
              "      <td>632</td>\n",
              "      <td>Universal</td>\n",
              "      <td>$236.40</td>\n",
              "      <td>2003</td>\n",
              "    </tr>\n",
              "    <tr>\n",
              "      <th>2012</th>\n",
              "      <td>93</td>\n",
              "      <td>Sony</td>\n",
              "      <td>$769.70</td>\n",
              "      <td>2009</td>\n",
              "    </tr>\n",
              "  </tbody>\n",
              "</table>\n",
              "</div>"
            ],
            "text/plain": [
              "                  Rank           Studio     Gross  Year\n",
              "Title                                                  \n",
              "10,000 B.C.        536  Warner Brothers  $269.80   2008\n",
              "101 Dalmatians     708      Buena Vista  $215.90   1961\n",
              "101 Dalmatians     425      Buena Vista  $320.70   1996\n",
              "2 Fast 2 Furious   632        Universal  $236.40   2003\n",
              "2012                93             Sony  $769.70   2009"
            ]
          },
          "metadata": {},
          "execution_count": 22
        }
      ]
    },
    {
      "cell_type": "markdown",
      "metadata": {
        "id": "yFtXmOJyqkxt"
      },
      "source": [
        "<h4>Counting Values in a Series"
      ]
    },
    {
      "cell_type": "code",
      "metadata": {
        "colab": {
          "base_uri": "https://localhost:8080/"
        },
        "id": "5Jbq7-dbqWOA",
        "outputId": "c1fcf60c-ae98-416a-ca46-c1225c51e9c3"
      },
      "source": [
        "#To Answer a question like\n",
        "#\"Which movie studio had the greatest number of highest-grossing films?\"\n",
        "df[\"Studio\"].value_counts().head(10) #Returns Top 10 Grossing Studios as Series"
      ],
      "execution_count": 26,
      "outputs": [
        {
          "output_type": "execute_result",
          "data": {
            "text/plain": [
              "Warner Brothers    132\n",
              "Buena Vista        125\n",
              "Fox                117\n",
              "Universal          109\n",
              "Sony                86\n",
              "Paramount           76\n",
              "Dreamworks          27\n",
              "Lionsgate           21\n",
              "New Line            16\n",
              "TriStar             11\n",
              "Name: Studio, dtype: int64"
            ]
          },
          "metadata": {},
          "execution_count": 26
        }
      ]
    },
    {
      "cell_type": "markdown",
      "metadata": {
        "id": "_e7Q-qvWrSOY"
      },
      "source": [
        "<h4>Filtering a Column by One or More Criteria"
      ]
    },
    {
      "cell_type": "code",
      "metadata": {
        "colab": {
          "base_uri": "https://localhost:8080/",
          "height": 450
        },
        "id": "yiG_brmiq8Dk",
        "outputId": "44b7bc26-32c2-45b5-fe55-a6c3229a2159"
      },
      "source": [
        "#To limit view to a particular studio\n",
        "#dataframe[dataframe[\"Column_Name\"] == \"Value_Name\"]\n",
        "df[df[\"Studio\"] == \"Universal\"]"
      ],
      "execution_count": 29,
      "outputs": [
        {
          "output_type": "execute_result",
          "data": {
            "text/html": [
              "<div>\n",
              "<style scoped>\n",
              "    .dataframe tbody tr th:only-of-type {\n",
              "        vertical-align: middle;\n",
              "    }\n",
              "\n",
              "    .dataframe tbody tr th {\n",
              "        vertical-align: top;\n",
              "    }\n",
              "\n",
              "    .dataframe thead th {\n",
              "        text-align: right;\n",
              "    }\n",
              "</style>\n",
              "<table border=\"1\" class=\"dataframe\">\n",
              "  <thead>\n",
              "    <tr style=\"text-align: right;\">\n",
              "      <th></th>\n",
              "      <th>Rank</th>\n",
              "      <th>Studio</th>\n",
              "      <th>Gross</th>\n",
              "      <th>Year</th>\n",
              "    </tr>\n",
              "    <tr>\n",
              "      <th>Title</th>\n",
              "      <th></th>\n",
              "      <th></th>\n",
              "      <th></th>\n",
              "      <th></th>\n",
              "    </tr>\n",
              "  </thead>\n",
              "  <tbody>\n",
              "    <tr>\n",
              "      <th>Jurassic World</th>\n",
              "      <td>6</td>\n",
              "      <td>Universal</td>\n",
              "      <td>$1,671.70</td>\n",
              "      <td>2015</td>\n",
              "    </tr>\n",
              "    <tr>\n",
              "      <th>Furious 7</th>\n",
              "      <td>8</td>\n",
              "      <td>Universal</td>\n",
              "      <td>$1,516.00</td>\n",
              "      <td>2015</td>\n",
              "    </tr>\n",
              "    <tr>\n",
              "      <th>Jurassic World: Fallen Kingdom</th>\n",
              "      <td>13</td>\n",
              "      <td>Universal</td>\n",
              "      <td>$1,309.50</td>\n",
              "      <td>2018</td>\n",
              "    </tr>\n",
              "    <tr>\n",
              "      <th>The Fate of the Furious</th>\n",
              "      <td>17</td>\n",
              "      <td>Universal</td>\n",
              "      <td>$1,236.00</td>\n",
              "      <td>2017</td>\n",
              "    </tr>\n",
              "    <tr>\n",
              "      <th>Minions</th>\n",
              "      <td>19</td>\n",
              "      <td>Universal</td>\n",
              "      <td>$1,159.40</td>\n",
              "      <td>2015</td>\n",
              "    </tr>\n",
              "    <tr>\n",
              "      <th>...</th>\n",
              "      <td>...</td>\n",
              "      <td>...</td>\n",
              "      <td>...</td>\n",
              "      <td>...</td>\n",
              "    </tr>\n",
              "    <tr>\n",
              "      <th>The Break-Up</th>\n",
              "      <td>763</td>\n",
              "      <td>Universal</td>\n",
              "      <td>$205.00</td>\n",
              "      <td>2006</td>\n",
              "    </tr>\n",
              "    <tr>\n",
              "      <th>Everest</th>\n",
              "      <td>766</td>\n",
              "      <td>Universal</td>\n",
              "      <td>$203.40</td>\n",
              "      <td>2015</td>\n",
              "    </tr>\n",
              "    <tr>\n",
              "      <th>Patch Adams</th>\n",
              "      <td>772</td>\n",
              "      <td>Universal</td>\n",
              "      <td>$202.30</td>\n",
              "      <td>1998</td>\n",
              "    </tr>\n",
              "    <tr>\n",
              "      <th>Kindergarten Cop</th>\n",
              "      <td>775</td>\n",
              "      <td>Universal</td>\n",
              "      <td>$202.00</td>\n",
              "      <td>1990</td>\n",
              "    </tr>\n",
              "    <tr>\n",
              "      <th>Straight Outta Compton</th>\n",
              "      <td>776</td>\n",
              "      <td>Universal</td>\n",
              "      <td>$201.60</td>\n",
              "      <td>2015</td>\n",
              "    </tr>\n",
              "  </tbody>\n",
              "</table>\n",
              "<p>109 rows × 4 columns</p>\n",
              "</div>"
            ],
            "text/plain": [
              "                                Rank     Studio       Gross  Year\n",
              "Title                                                            \n",
              "Jurassic World                     6  Universal  $1,671.70   2015\n",
              "Furious 7                          8  Universal  $1,516.00   2015\n",
              "Jurassic World: Fallen Kingdom    13  Universal  $1,309.50   2018\n",
              "The Fate of the Furious           17  Universal  $1,236.00   2017\n",
              "Minions                           19  Universal  $1,159.40   2015\n",
              "...                              ...        ...         ...   ...\n",
              "The Break-Up                     763  Universal    $205.00   2006\n",
              "Everest                          766  Universal    $203.40   2015\n",
              "Patch Adams                      772  Universal    $202.30   1998\n",
              "Kindergarten Cop                 775  Universal    $202.00   1990\n",
              "Straight Outta Compton           776  Universal    $201.60   2015\n",
              "\n",
              "[109 rows x 4 columns]"
            ]
          },
          "metadata": {},
          "execution_count": 29
        }
      ]
    },
    {
      "cell_type": "code",
      "metadata": {
        "colab": {
          "base_uri": "https://localhost:8080/",
          "height": 450
        },
        "id": "ZskiEgAAriZg",
        "outputId": "1b2ab33c-f073-481d-9447-0cf622258a12"
      },
      "source": [
        "#Can also assign the results(a series object) to a variable\n",
        "universal_studio = df[df[\"Studio\"] == \"Universal\"]\n",
        "universal_studio"
      ],
      "execution_count": 31,
      "outputs": [
        {
          "output_type": "execute_result",
          "data": {
            "text/html": [
              "<div>\n",
              "<style scoped>\n",
              "    .dataframe tbody tr th:only-of-type {\n",
              "        vertical-align: middle;\n",
              "    }\n",
              "\n",
              "    .dataframe tbody tr th {\n",
              "        vertical-align: top;\n",
              "    }\n",
              "\n",
              "    .dataframe thead th {\n",
              "        text-align: right;\n",
              "    }\n",
              "</style>\n",
              "<table border=\"1\" class=\"dataframe\">\n",
              "  <thead>\n",
              "    <tr style=\"text-align: right;\">\n",
              "      <th></th>\n",
              "      <th>Rank</th>\n",
              "      <th>Studio</th>\n",
              "      <th>Gross</th>\n",
              "      <th>Year</th>\n",
              "    </tr>\n",
              "    <tr>\n",
              "      <th>Title</th>\n",
              "      <th></th>\n",
              "      <th></th>\n",
              "      <th></th>\n",
              "      <th></th>\n",
              "    </tr>\n",
              "  </thead>\n",
              "  <tbody>\n",
              "    <tr>\n",
              "      <th>Jurassic World</th>\n",
              "      <td>6</td>\n",
              "      <td>Universal</td>\n",
              "      <td>$1,671.70</td>\n",
              "      <td>2015</td>\n",
              "    </tr>\n",
              "    <tr>\n",
              "      <th>Furious 7</th>\n",
              "      <td>8</td>\n",
              "      <td>Universal</td>\n",
              "      <td>$1,516.00</td>\n",
              "      <td>2015</td>\n",
              "    </tr>\n",
              "    <tr>\n",
              "      <th>Jurassic World: Fallen Kingdom</th>\n",
              "      <td>13</td>\n",
              "      <td>Universal</td>\n",
              "      <td>$1,309.50</td>\n",
              "      <td>2018</td>\n",
              "    </tr>\n",
              "    <tr>\n",
              "      <th>The Fate of the Furious</th>\n",
              "      <td>17</td>\n",
              "      <td>Universal</td>\n",
              "      <td>$1,236.00</td>\n",
              "      <td>2017</td>\n",
              "    </tr>\n",
              "    <tr>\n",
              "      <th>Minions</th>\n",
              "      <td>19</td>\n",
              "      <td>Universal</td>\n",
              "      <td>$1,159.40</td>\n",
              "      <td>2015</td>\n",
              "    </tr>\n",
              "    <tr>\n",
              "      <th>...</th>\n",
              "      <td>...</td>\n",
              "      <td>...</td>\n",
              "      <td>...</td>\n",
              "      <td>...</td>\n",
              "    </tr>\n",
              "    <tr>\n",
              "      <th>The Break-Up</th>\n",
              "      <td>763</td>\n",
              "      <td>Universal</td>\n",
              "      <td>$205.00</td>\n",
              "      <td>2006</td>\n",
              "    </tr>\n",
              "    <tr>\n",
              "      <th>Everest</th>\n",
              "      <td>766</td>\n",
              "      <td>Universal</td>\n",
              "      <td>$203.40</td>\n",
              "      <td>2015</td>\n",
              "    </tr>\n",
              "    <tr>\n",
              "      <th>Patch Adams</th>\n",
              "      <td>772</td>\n",
              "      <td>Universal</td>\n",
              "      <td>$202.30</td>\n",
              "      <td>1998</td>\n",
              "    </tr>\n",
              "    <tr>\n",
              "      <th>Kindergarten Cop</th>\n",
              "      <td>775</td>\n",
              "      <td>Universal</td>\n",
              "      <td>$202.00</td>\n",
              "      <td>1990</td>\n",
              "    </tr>\n",
              "    <tr>\n",
              "      <th>Straight Outta Compton</th>\n",
              "      <td>776</td>\n",
              "      <td>Universal</td>\n",
              "      <td>$201.60</td>\n",
              "      <td>2015</td>\n",
              "    </tr>\n",
              "  </tbody>\n",
              "</table>\n",
              "<p>109 rows × 4 columns</p>\n",
              "</div>"
            ],
            "text/plain": [
              "                                Rank     Studio       Gross  Year\n",
              "Title                                                            \n",
              "Jurassic World                     6  Universal  $1,671.70   2015\n",
              "Furious 7                          8  Universal  $1,516.00   2015\n",
              "Jurassic World: Fallen Kingdom    13  Universal  $1,309.50   2018\n",
              "The Fate of the Furious           17  Universal  $1,236.00   2017\n",
              "Minions                           19  Universal  $1,159.40   2015\n",
              "...                              ...        ...         ...   ...\n",
              "The Break-Up                     763  Universal    $205.00   2006\n",
              "Everest                          766  Universal    $203.40   2015\n",
              "Patch Adams                      772  Universal    $202.30   1998\n",
              "Kindergarten Cop                 775  Universal    $202.00   1990\n",
              "Straight Outta Compton           776  Universal    $201.60   2015\n",
              "\n",
              "[109 rows x 4 columns]"
            ]
          },
          "metadata": {},
          "execution_count": 31
        }
      ]
    },
    {
      "cell_type": "code",
      "metadata": {
        "colab": {
          "base_uri": "https://localhost:8080/",
          "height": 328
        },
        "id": "EDOiad4yr9Ad",
        "outputId": "70cf7739-3112-41b7-ac9e-929df41f4dd7"
      },
      "source": [
        "#Can Also Combine Multiple Criterias\n",
        "#Use individual criterias to find movies produced by Universal Studios in 2015\n",
        "universal_studio = df[\"Studio\"] == \"Universal\"\n",
        "released_2015 = df[\"Year\"] == 2015\n",
        "df[universal_studio & released_2015]"
      ],
      "execution_count": 34,
      "outputs": [
        {
          "output_type": "execute_result",
          "data": {
            "text/html": [
              "<div>\n",
              "<style scoped>\n",
              "    .dataframe tbody tr th:only-of-type {\n",
              "        vertical-align: middle;\n",
              "    }\n",
              "\n",
              "    .dataframe tbody tr th {\n",
              "        vertical-align: top;\n",
              "    }\n",
              "\n",
              "    .dataframe thead th {\n",
              "        text-align: right;\n",
              "    }\n",
              "</style>\n",
              "<table border=\"1\" class=\"dataframe\">\n",
              "  <thead>\n",
              "    <tr style=\"text-align: right;\">\n",
              "      <th></th>\n",
              "      <th>Rank</th>\n",
              "      <th>Studio</th>\n",
              "      <th>Gross</th>\n",
              "      <th>Year</th>\n",
              "    </tr>\n",
              "    <tr>\n",
              "      <th>Title</th>\n",
              "      <th></th>\n",
              "      <th></th>\n",
              "      <th></th>\n",
              "      <th></th>\n",
              "    </tr>\n",
              "  </thead>\n",
              "  <tbody>\n",
              "    <tr>\n",
              "      <th>Jurassic World</th>\n",
              "      <td>6</td>\n",
              "      <td>Universal</td>\n",
              "      <td>$1,671.70</td>\n",
              "      <td>2015</td>\n",
              "    </tr>\n",
              "    <tr>\n",
              "      <th>Furious 7</th>\n",
              "      <td>8</td>\n",
              "      <td>Universal</td>\n",
              "      <td>$1,516.00</td>\n",
              "      <td>2015</td>\n",
              "    </tr>\n",
              "    <tr>\n",
              "      <th>Minions</th>\n",
              "      <td>19</td>\n",
              "      <td>Universal</td>\n",
              "      <td>$1,159.40</td>\n",
              "      <td>2015</td>\n",
              "    </tr>\n",
              "    <tr>\n",
              "      <th>Fifty Shades of Grey</th>\n",
              "      <td>165</td>\n",
              "      <td>Universal</td>\n",
              "      <td>$571.00</td>\n",
              "      <td>2015</td>\n",
              "    </tr>\n",
              "    <tr>\n",
              "      <th>Pitch Perfect 2</th>\n",
              "      <td>504</td>\n",
              "      <td>Universal</td>\n",
              "      <td>$287.50</td>\n",
              "      <td>2015</td>\n",
              "    </tr>\n",
              "    <tr>\n",
              "      <th>Ted 2</th>\n",
              "      <td>702</td>\n",
              "      <td>Universal</td>\n",
              "      <td>$216.70</td>\n",
              "      <td>2015</td>\n",
              "    </tr>\n",
              "    <tr>\n",
              "      <th>Everest</th>\n",
              "      <td>766</td>\n",
              "      <td>Universal</td>\n",
              "      <td>$203.40</td>\n",
              "      <td>2015</td>\n",
              "    </tr>\n",
              "    <tr>\n",
              "      <th>Straight Outta Compton</th>\n",
              "      <td>776</td>\n",
              "      <td>Universal</td>\n",
              "      <td>$201.60</td>\n",
              "      <td>2015</td>\n",
              "    </tr>\n",
              "  </tbody>\n",
              "</table>\n",
              "</div>"
            ],
            "text/plain": [
              "                        Rank     Studio       Gross  Year\n",
              "Title                                                    \n",
              "Jurassic World             6  Universal  $1,671.70   2015\n",
              "Furious 7                  8  Universal  $1,516.00   2015\n",
              "Minions                   19  Universal  $1,159.40   2015\n",
              "Fifty Shades of Grey     165  Universal    $571.00   2015\n",
              "Pitch Perfect 2          504  Universal    $287.50   2015\n",
              "Ted 2                    702  Universal    $216.70   2015\n",
              "Everest                  766  Universal    $203.40   2015\n",
              "Straight Outta Compton   776  Universal    $201.60   2015"
            ]
          },
          "metadata": {},
          "execution_count": 34
        }
      ]
    },
    {
      "cell_type": "code",
      "metadata": {
        "colab": {
          "base_uri": "https://localhost:8080/",
          "height": 328
        },
        "id": "BXrwD0u_sXEa",
        "outputId": "56fa2907-c48a-4b3d-d55d-b69d9c37ca2b"
      },
      "source": [
        "#Can also filter by contained strings\n",
        "#first convert string values to lowercase and contains value\n",
        "dark_in_title = df.index.str.lower().str.contains(\"dark\")\n",
        "df[dark_in_title]"
      ],
      "execution_count": 35,
      "outputs": [
        {
          "output_type": "execute_result",
          "data": {
            "text/html": [
              "<div>\n",
              "<style scoped>\n",
              "    .dataframe tbody tr th:only-of-type {\n",
              "        vertical-align: middle;\n",
              "    }\n",
              "\n",
              "    .dataframe tbody tr th {\n",
              "        vertical-align: top;\n",
              "    }\n",
              "\n",
              "    .dataframe thead th {\n",
              "        text-align: right;\n",
              "    }\n",
              "</style>\n",
              "<table border=\"1\" class=\"dataframe\">\n",
              "  <thead>\n",
              "    <tr style=\"text-align: right;\">\n",
              "      <th></th>\n",
              "      <th>Rank</th>\n",
              "      <th>Studio</th>\n",
              "      <th>Gross</th>\n",
              "      <th>Year</th>\n",
              "    </tr>\n",
              "    <tr>\n",
              "      <th>Title</th>\n",
              "      <th></th>\n",
              "      <th></th>\n",
              "      <th></th>\n",
              "      <th></th>\n",
              "    </tr>\n",
              "  </thead>\n",
              "  <tbody>\n",
              "    <tr>\n",
              "      <th>Transformers: Dark of the Moon</th>\n",
              "      <td>23</td>\n",
              "      <td>Paramount</td>\n",
              "      <td>$1,123.80</td>\n",
              "      <td>2011</td>\n",
              "    </tr>\n",
              "    <tr>\n",
              "      <th>The Dark Knight Rises</th>\n",
              "      <td>27</td>\n",
              "      <td>Warner Brothers</td>\n",
              "      <td>$1,084.90</td>\n",
              "      <td>2012</td>\n",
              "    </tr>\n",
              "    <tr>\n",
              "      <th>The Dark Knight</th>\n",
              "      <td>39</td>\n",
              "      <td>Warner Brothers</td>\n",
              "      <td>$1,004.90</td>\n",
              "      <td>2008</td>\n",
              "    </tr>\n",
              "    <tr>\n",
              "      <th>Thor: The Dark World</th>\n",
              "      <td>132</td>\n",
              "      <td>Buena Vista</td>\n",
              "      <td>$644.60</td>\n",
              "      <td>2013</td>\n",
              "    </tr>\n",
              "    <tr>\n",
              "      <th>Star Trek Into Darkness</th>\n",
              "      <td>232</td>\n",
              "      <td>Paramount</td>\n",
              "      <td>$467.40</td>\n",
              "      <td>2013</td>\n",
              "    </tr>\n",
              "    <tr>\n",
              "      <th>Fifty Shades Darker</th>\n",
              "      <td>309</td>\n",
              "      <td>Universal</td>\n",
              "      <td>$381.50</td>\n",
              "      <td>2017</td>\n",
              "    </tr>\n",
              "    <tr>\n",
              "      <th>Dark Shadows</th>\n",
              "      <td>600</td>\n",
              "      <td>Warner Brothers</td>\n",
              "      <td>$245.50</td>\n",
              "      <td>2012</td>\n",
              "    </tr>\n",
              "    <tr>\n",
              "      <th>Dark Phoenix</th>\n",
              "      <td>603</td>\n",
              "      <td>Fox</td>\n",
              "      <td>$245.10</td>\n",
              "      <td>2019</td>\n",
              "    </tr>\n",
              "  </tbody>\n",
              "</table>\n",
              "</div>"
            ],
            "text/plain": [
              "                                Rank           Studio       Gross  Year\n",
              "Title                                                                  \n",
              "Transformers: Dark of the Moon    23        Paramount  $1,123.80   2011\n",
              "The Dark Knight Rises             27  Warner Brothers  $1,084.90   2012\n",
              "The Dark Knight                   39  Warner Brothers  $1,004.90   2008\n",
              "Thor: The Dark World             132      Buena Vista    $644.60   2013\n",
              "Star Trek Into Darkness          232        Paramount    $467.40   2013\n",
              "Fifty Shades Darker              309        Universal    $381.50   2017\n",
              "Dark Shadows                     600  Warner Brothers    $245.50   2012\n",
              "Dark Phoenix                     603              Fox    $245.10   2019"
            ]
          },
          "metadata": {},
          "execution_count": 35
        }
      ]
    },
    {
      "cell_type": "markdown",
      "metadata": {
        "id": "eQCYG9zotJnz"
      },
      "source": [
        "<h4> Grouping Data"
      ]
    },
    {
      "cell_type": "code",
      "metadata": {
        "id": "zZNra6bytHnW"
      },
      "source": [
        "#Next we can group values to its aggregate and perform statistical analysis"
      ],
      "execution_count": 36,
      "outputs": []
    },
    {
      "cell_type": "code",
      "metadata": {
        "id": "arOaCDjStTOV"
      },
      "source": [
        "#First we need to convert the Gross column from object to int\n",
        "#Remove the Dollar sign and the comma, then convert to float\n",
        "#And then assign it to the Gross column to mutate it\n",
        "\n",
        "df[\"Gross\"] = df[\"Gross\"].str.replace(\"$\", \"\").str.replace(\",\", \"\").astype(float)"
      ],
      "execution_count": 37,
      "outputs": []
    },
    {
      "cell_type": "code",
      "metadata": {
        "colab": {
          "base_uri": "https://localhost:8080/"
        },
        "id": "b2Q1WtzftyI8",
        "outputId": "d8fdb64c-ee1e-4605-8e96-a3d0c67709ad"
      },
      "source": [
        "df[\"Gross\"]"
      ],
      "execution_count": 38,
      "outputs": [
        {
          "output_type": "execute_result",
          "data": {
            "text/plain": [
              "Title\n",
              "Avengers: Endgame               2796.3\n",
              "Avatar                          2789.7\n",
              "Titanic                         2187.5\n",
              "Star Wars: The Force Awakens    2068.2\n",
              "Avengers: Infinity War          2048.4\n",
              "                                 ...  \n",
              "Yogi Bear                        201.6\n",
              "Garfield: The Movie              200.8\n",
              "Cats & Dogs                      200.7\n",
              "The Hunt for Red October         200.5\n",
              "Valkyrie                         200.3\n",
              "Name: Gross, Length: 782, dtype: float64"
            ]
          },
          "metadata": {},
          "execution_count": 38
        }
      ]
    },
    {
      "cell_type": "code",
      "metadata": {
        "colab": {
          "base_uri": "https://localhost:8080/"
        },
        "id": "FGD9xCcmt016",
        "outputId": "8f9262f3-028d-4bfe-a89a-51845d06a25d"
      },
      "source": [
        "#Now that the column has been converted to numeric values\n",
        "#We can Perform some statistical analysis measures\n",
        "\n",
        "#First we can find the average(mean) Grossing value\n",
        "df[\"Gross\"].mean()"
      ],
      "execution_count": 41,
      "outputs": [
        {
          "output_type": "execute_result",
          "data": {
            "text/plain": [
              "439.0308184143226"
            ]
          },
          "metadata": {},
          "execution_count": 41
        }
      ]
    },
    {
      "cell_type": "code",
      "metadata": {
        "id": "ydaDXYLMt_7u"
      },
      "source": [
        "#Now to find the aggregates use the .groupby() function\n",
        "#First assign a grouped series to a variable\n",
        "studios = df.groupby(\"Studio\")"
      ],
      "execution_count": 42,
      "outputs": []
    },
    {
      "cell_type": "code",
      "metadata": {
        "colab": {
          "base_uri": "https://localhost:8080/"
        },
        "id": "6Q5XIo6uy81t",
        "outputId": "268e4063-5b7c-46be-dced-c1a610fd45f4"
      },
      "source": [
        "#Then to find the total gross of each studio \n",
        "studios['Gross'].sum().head()"
      ],
      "execution_count": 43,
      "outputs": [
        {
          "output_type": "execute_result",
          "data": {
            "text/plain": [
              "Studio\n",
              "Artisan                     248.6\n",
              "Buena Vista               73585.0\n",
              "CL                          228.1\n",
              "China Film Corporation      699.8\n",
              "Columbia                   1276.6\n",
              "Name: Gross, dtype: float64"
            ]
          },
          "metadata": {},
          "execution_count": 43
        }
      ]
    },
    {
      "cell_type": "code",
      "metadata": {
        "colab": {
          "base_uri": "https://localhost:8080/"
        },
        "id": "0v8Y_YsHzGD2",
        "outputId": "f7368bc5-391f-43fb-ce6c-558ee07ff514"
      },
      "source": [
        "#To view in sorted order, with highest first\n",
        "studios[\"Gross\"].sum().sort_values(ascending=False).head()"
      ],
      "execution_count": 45,
      "outputs": [
        {
          "output_type": "execute_result",
          "data": {
            "text/plain": [
              "Studio\n",
              "Buena Vista        73585.0\n",
              "Warner Brothers    58643.8\n",
              "Fox                50420.8\n",
              "Universal          44302.3\n",
              "Sony               32822.5\n",
              "Name: Gross, dtype: float64"
            ]
          },
          "metadata": {},
          "execution_count": 45
        }
      ]
    },
    {
      "cell_type": "code",
      "metadata": {
        "id": "jDZBIL3AzSYb"
      },
      "source": [
        ""
      ],
      "execution_count": null,
      "outputs": []
    }
  ]
}
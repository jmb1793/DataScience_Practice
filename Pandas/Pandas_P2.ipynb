{
  "nbformat": 4,
  "nbformat_minor": 0,
  "metadata": {
    "colab": {
      "name": "PandasP2.ipynb",
      "provenance": []
    },
    "kernelspec": {
      "name": "python3",
      "display_name": "Python 3"
    },
    "language_info": {
      "name": "python"
    }
  },
  "cells": [
    {
      "cell_type": "markdown",
      "metadata": {
        "id": "SwnN0TP80Uh2"
      },
      "source": [
        "<h2>The Series Object</h2>\n",
        "<h3>This is part 2 of pandas learning</h3>\n",
        "\n",
        "In this notebook I will practice:\n",
        "\n",
        "- Modules, Classes, and Instances\n",
        "- Populating a Series with values\n",
        "- Customizing the index\n",
        "- Creating a Series with Missing Values\n",
        "- Creating a series from:\n",
        "  - Dictionaries\n",
        "  - Tuples\n",
        "  - Sets\n",
        "  - NumPy Arrays\n",
        "- Retrieving First and Last Rows\n",
        "- Mathmemathical Operations\n",
        "  - Arithmetic\n",
        "  - Broadcasting\n",
        "- Passing Series to Built-in Functions"
      ]
    },
    {
      "cell_type": "code",
      "metadata": {
        "id": "hCcfW6WY2Wpr"
      },
      "source": [
        "import numpy as np\n",
        "import pandas as pd"
      ],
      "execution_count": 1,
      "outputs": []
    },
    {
      "cell_type": "markdown",
      "metadata": {
        "id": "BiY9jd8b1LK7"
      },
      "source": [
        "<h4>Modules, Classes, and Instances"
      ]
    },
    {
      "cell_type": "code",
      "metadata": {
        "colab": {
          "base_uri": "https://localhost:8080/"
        },
        "id": "kODx9tCR1bzo",
        "outputId": "a6ef6211-f809-4c60-d8dd-9042b083b6e7"
      },
      "source": [
        "#Instantiate a Series Object\n",
        "pd.Series()"
      ],
      "execution_count": 2,
      "outputs": [
        {
          "output_type": "stream",
          "name": "stderr",
          "text": [
            "/usr/local/lib/python3.7/dist-packages/ipykernel_launcher.py:2: DeprecationWarning: The default dtype for empty Series will be 'object' instead of 'float64' in a future version. Specify a dtype explicitly to silence this warning.\n",
            "  \n"
          ]
        },
        {
          "output_type": "execute_result",
          "data": {
            "text/plain": [
              "Series([], dtype: float64)"
            ]
          },
          "metadata": {},
          "execution_count": 2
        }
      ]
    },
    {
      "cell_type": "markdown",
      "metadata": {
        "id": "lqqwCRSV1LOD"
      },
      "source": [
        "<h4>Populating The Series with Values"
      ]
    },
    {
      "cell_type": "code",
      "metadata": {
        "id": "H1Vtr_CJ1cdj",
        "colab": {
          "base_uri": "https://localhost:8080/"
        },
        "outputId": "ce1a4c1a-9e4e-426e-e560-a3cd0149e528"
      },
      "source": [
        "#Can pass a list into the series constructor \n",
        "pet_list = [\"Dog\",\"Cat\",\"Rat\",\"Gecko\"]\n",
        "series = pd.Series(list)\n",
        "\n",
        "series"
      ],
      "execution_count": 3,
      "outputs": [
        {
          "output_type": "execute_result",
          "data": {
            "text/plain": [
              "0    <class 'list'>\n",
              "dtype: object"
            ]
          },
          "metadata": {},
          "execution_count": 3
        }
      ]
    },
    {
      "cell_type": "markdown",
      "metadata": {
        "id": "qzHTGMMP1LQ9"
      },
      "source": [
        "<h4>Customizing the Index"
      ]
    },
    {
      "cell_type": "markdown",
      "metadata": {
        "id": "vq6uHIbm7-0f"
      },
      "source": [
        "Pandas index can have both an elements position and a label for it."
      ]
    },
    {
      "cell_type": "code",
      "metadata": {
        "id": "y46ij3gR1dBI",
        "colab": {
          "base_uri": "https://localhost:8080/"
        },
        "outputId": "f83fcfb5-72c1-441f-e011-0ba21164bfd0"
      },
      "source": [
        "#Create a new series object with days of the week as indexers\n",
        "ice_cream_flavors = ['Chocolate', 'Vanilla', 'Strawberry', 'Raisin']\n",
        "\n",
        "days_of_week = (\"Monday\", \"Wednesday\", \"Friday\", \"Saturday\")\n",
        "\n",
        "pd.Series(data=ice_cream_flavors,index=days_of_week)"
      ],
      "execution_count": 4,
      "outputs": [
        {
          "output_type": "execute_result",
          "data": {
            "text/plain": [
              "Monday        Chocolate\n",
              "Wednesday       Vanilla\n",
              "Friday       Strawberry\n",
              "Saturday         Raisin\n",
              "dtype: object"
            ]
          },
          "metadata": {},
          "execution_count": 4
        }
      ]
    },
    {
      "cell_type": "code",
      "metadata": {
        "colab": {
          "base_uri": "https://localhost:8080/"
        },
        "id": "YbEsK9lf82l9",
        "outputId": "5e8be6e9-6fae-4e3f-e9e2-2628a1646c30"
      },
      "source": [
        "#Repeat series construction, but using duplicate index labels\n",
        "days_of_week_2 = ('Monday','Wednesday','Friday','Monday')\n",
        "pd.Series(data=ice_cream_flavors,index=days_of_week_2)"
      ],
      "execution_count": 5,
      "outputs": [
        {
          "output_type": "execute_result",
          "data": {
            "text/plain": [
              "Monday        Chocolate\n",
              "Wednesday       Vanilla\n",
              "Friday       Strawberry\n",
              "Monday           Raisin\n",
              "dtype: object"
            ]
          },
          "metadata": {},
          "execution_count": 5
        }
      ]
    },
    {
      "cell_type": "markdown",
      "metadata": {
        "id": "pjc29N2l1LT3"
      },
      "source": [
        "<h4>Creating a Series with Missing Values"
      ]
    },
    {
      "cell_type": "code",
      "metadata": {
        "id": "WJZfqigx1d6Y",
        "colab": {
          "base_uri": "https://localhost:8080/"
        },
        "outputId": "3d7cee8a-7064-43c0-ab75-a8693b6a4db8"
      },
      "source": [
        "#Even if there are null values, or NaNs, series can construct and infer data type\n",
        "pets = ['dog','cat',np.nan]\n",
        "pd.Series(pets)"
      ],
      "execution_count": 6,
      "outputs": [
        {
          "output_type": "execute_result",
          "data": {
            "text/plain": [
              "0    dog\n",
              "1    cat\n",
              "2    NaN\n",
              "dtype: object"
            ]
          },
          "metadata": {},
          "execution_count": 6
        }
      ]
    },
    {
      "cell_type": "markdown",
      "metadata": {
        "id": "HHBbj-eu1LWm"
      },
      "source": [
        "<h3>Creating a Series from Python Objects"
      ]
    },
    {
      "cell_type": "markdown",
      "metadata": {
        "id": "uoB1k2E31_vP"
      },
      "source": [
        "<h5>Dictionaries"
      ]
    },
    {
      "cell_type": "code",
      "metadata": {
        "id": "p7lZFHK21_D3",
        "colab": {
          "base_uri": "https://localhost:8080/"
        },
        "outputId": "825419d1-717d-4ed0-a88c-5564f2aefdfe"
      },
      "source": [
        "#Passing a Dictionary into series constructor will use the keys as index labels\n",
        "\n",
        "color_moods = {\n",
        "    \"Blue\":\"Sad\",\n",
        "    \"Red\":\"Energetic\",\n",
        "    \"Yellow\":\"Happy\",\n",
        "    \"Purple\":\"Calm\"\n",
        "}\n",
        "\n",
        "colors = pd.Series(color_moods)\n",
        "colors"
      ],
      "execution_count": 7,
      "outputs": [
        {
          "output_type": "execute_result",
          "data": {
            "text/plain": [
              "Blue            Sad\n",
              "Red       Energetic\n",
              "Yellow        Happy\n",
              "Purple         Calm\n",
              "dtype: object"
            ]
          },
          "metadata": {},
          "execution_count": 7
        }
      ]
    },
    {
      "cell_type": "code",
      "metadata": {
        "colab": {
          "base_uri": "https://localhost:8080/"
        },
        "id": "OlnBBco9BbW0",
        "outputId": "1709da53-e833-4885-9528-a03d6a03bde9"
      },
      "source": [
        "colors.values"
      ],
      "execution_count": 8,
      "outputs": [
        {
          "output_type": "execute_result",
          "data": {
            "text/plain": [
              "array(['Sad', 'Energetic', 'Happy', 'Calm'], dtype=object)"
            ]
          },
          "metadata": {},
          "execution_count": 8
        }
      ]
    },
    {
      "cell_type": "code",
      "metadata": {
        "colab": {
          "base_uri": "https://localhost:8080/"
        },
        "id": "7pAMEKT-Bg6r",
        "outputId": "b4235b75-b1fa-4ba0-fcc5-e55971d0b6f5"
      },
      "source": [
        "colors.index"
      ],
      "execution_count": 9,
      "outputs": [
        {
          "output_type": "execute_result",
          "data": {
            "text/plain": [
              "Index(['Blue', 'Red', 'Yellow', 'Purple'], dtype='object')"
            ]
          },
          "metadata": {},
          "execution_count": 9
        }
      ]
    },
    {
      "cell_type": "markdown",
      "metadata": {
        "id": "z_V7dJ_O2Fg_"
      },
      "source": [
        "<h5>Tuples"
      ]
    },
    {
      "cell_type": "code",
      "metadata": {
        "id": "y-SRKP_k2Ev7",
        "colab": {
          "base_uri": "https://localhost:8080/"
        },
        "outputId": "ea6369ae-30fa-4113-c68c-3ba8f4c70905"
      },
      "source": [
        "#the Series Constructor can also pass in tuples\n",
        "tuple_ex = (\"Red\",\"Blue\",\"Green\")\n",
        "pd.Series(tuple_ex)"
      ],
      "execution_count": 10,
      "outputs": [
        {
          "output_type": "execute_result",
          "data": {
            "text/plain": [
              "0      Red\n",
              "1     Blue\n",
              "2    Green\n",
              "dtype: object"
            ]
          },
          "metadata": {},
          "execution_count": 10
        }
      ]
    },
    {
      "cell_type": "markdown",
      "metadata": {
        "id": "zWA51j0D2HbN"
      },
      "source": [
        "<h5>Sets"
      ]
    },
    {
      "cell_type": "code",
      "metadata": {
        "id": "oXTkfXXf1ejC",
        "colab": {
          "base_uri": "https://localhost:8080/",
          "height": 325
        },
        "outputId": "ed3f9f52-3b51-4b11-f887-d4d5a68059cc"
      },
      "source": [
        "#A set is an unordered collection of unique values\n",
        "#Declared similarly to a dictionary, but does not contain pairings\n",
        "#the Series Constructor can not pass in sets\n",
        "\n",
        "s = {\"Blue\",\"Black\"}\n",
        "pd.Series(s)"
      ],
      "execution_count": 11,
      "outputs": [
        {
          "output_type": "error",
          "ename": "TypeError",
          "evalue": "ignored",
          "traceback": [
            "\u001b[0;31m---------------------------------------------------------------------------\u001b[0m",
            "\u001b[0;31mTypeError\u001b[0m                                 Traceback (most recent call last)",
            "\u001b[0;32m<ipython-input-11-46cef6da2b5d>\u001b[0m in \u001b[0;36m<module>\u001b[0;34m()\u001b[0m\n\u001b[1;32m      4\u001b[0m \u001b[0;34m\u001b[0m\u001b[0m\n\u001b[1;32m      5\u001b[0m \u001b[0ms\u001b[0m \u001b[0;34m=\u001b[0m \u001b[0;34m{\u001b[0m\u001b[0;34m\"Blue\"\u001b[0m\u001b[0;34m,\u001b[0m\u001b[0;34m\"Black\"\u001b[0m\u001b[0;34m}\u001b[0m\u001b[0;34m\u001b[0m\u001b[0;34m\u001b[0m\u001b[0m\n\u001b[0;32m----> 6\u001b[0;31m \u001b[0mpd\u001b[0m\u001b[0;34m.\u001b[0m\u001b[0mSeries\u001b[0m\u001b[0;34m(\u001b[0m\u001b[0ms\u001b[0m\u001b[0;34m)\u001b[0m\u001b[0;34m\u001b[0m\u001b[0;34m\u001b[0m\u001b[0m\n\u001b[0m",
            "\u001b[0;32m/usr/local/lib/python3.7/dist-packages/pandas/core/series.py\u001b[0m in \u001b[0;36m__init__\u001b[0;34m(self, data, index, dtype, name, copy, fastpath)\u001b[0m\n\u001b[1;32m    297\u001b[0m                 \u001b[0;32mpass\u001b[0m\u001b[0;34m\u001b[0m\u001b[0;34m\u001b[0m\u001b[0m\n\u001b[1;32m    298\u001b[0m             \u001b[0;32melif\u001b[0m \u001b[0misinstance\u001b[0m\u001b[0;34m(\u001b[0m\u001b[0mdata\u001b[0m\u001b[0;34m,\u001b[0m \u001b[0;34m(\u001b[0m\u001b[0mset\u001b[0m\u001b[0;34m,\u001b[0m \u001b[0mfrozenset\u001b[0m\u001b[0;34m)\u001b[0m\u001b[0;34m)\u001b[0m\u001b[0;34m:\u001b[0m\u001b[0;34m\u001b[0m\u001b[0;34m\u001b[0m\u001b[0m\n\u001b[0;32m--> 299\u001b[0;31m                 \u001b[0;32mraise\u001b[0m \u001b[0mTypeError\u001b[0m\u001b[0;34m(\u001b[0m\u001b[0;34mf\"'{type(data).__name__}' type is unordered\"\u001b[0m\u001b[0;34m)\u001b[0m\u001b[0;34m\u001b[0m\u001b[0;34m\u001b[0m\u001b[0m\n\u001b[0m\u001b[1;32m    300\u001b[0m             \u001b[0;32melse\u001b[0m\u001b[0;34m:\u001b[0m\u001b[0;34m\u001b[0m\u001b[0;34m\u001b[0m\u001b[0m\n\u001b[1;32m    301\u001b[0m                 \u001b[0mdata\u001b[0m \u001b[0;34m=\u001b[0m \u001b[0mcom\u001b[0m\u001b[0;34m.\u001b[0m\u001b[0mmaybe_iterable_to_list\u001b[0m\u001b[0;34m(\u001b[0m\u001b[0mdata\u001b[0m\u001b[0;34m)\u001b[0m\u001b[0;34m\u001b[0m\u001b[0;34m\u001b[0m\u001b[0m\n",
            "\u001b[0;31mTypeError\u001b[0m: 'set' type is unordered"
          ]
        }
      ]
    },
    {
      "cell_type": "code",
      "metadata": {
        "colab": {
          "base_uri": "https://localhost:8080/"
        },
        "id": "aYruTO4OCVvx",
        "outputId": "863e03a5-fa0b-41d2-81b5-fe23eefe53c8"
      },
      "source": [
        "#need to transform set into a list if passing into Series constructor\n",
        "s2 = list(s)\n",
        "pd.Series(s2)"
      ],
      "execution_count": 12,
      "outputs": [
        {
          "output_type": "execute_result",
          "data": {
            "text/plain": [
              "0     Blue\n",
              "1    Black\n",
              "dtype: object"
            ]
          },
          "metadata": {},
          "execution_count": 12
        }
      ]
    },
    {
      "cell_type": "markdown",
      "metadata": {
        "id": "wLHq6hJ62LEK"
      },
      "source": [
        "<h5>NumPy Arrays"
      ]
    },
    {
      "cell_type": "code",
      "metadata": {
        "id": "Kqpyawq_2PqC",
        "colab": {
          "base_uri": "https://localhost:8080/"
        },
        "outputId": "da686267-1d58-4592-a907-4936675671f2"
      },
      "source": [
        "#Series constructor can also accept a 1D array of values\n",
        "sample_list = np.random.randint(1,101,10)\n",
        "pd.Series(sample_list) "
      ],
      "execution_count": 13,
      "outputs": [
        {
          "output_type": "execute_result",
          "data": {
            "text/plain": [
              "0    70\n",
              "1    29\n",
              "2    89\n",
              "3     2\n",
              "4    78\n",
              "5    70\n",
              "6    16\n",
              "7    72\n",
              "8    88\n",
              "9    42\n",
              "dtype: int64"
            ]
          },
          "metadata": {},
          "execution_count": 13
        }
      ]
    },
    {
      "cell_type": "markdown",
      "metadata": {
        "id": "K48V9OCc1LZf"
      },
      "source": [
        "<h4>Retrieving the First and Last Rows"
      ]
    },
    {
      "cell_type": "code",
      "metadata": {
        "id": "V3E-xhsm1fDp",
        "colab": {
          "base_uri": "https://localhost:8080/"
        },
        "outputId": "b2c35401-1da2-437a-e883-c9b958ba69ea"
      },
      "source": [
        "#First Create a sample list of values, using range\n",
        "#range(lower, upper, step)\n",
        "#To get first rows we use .head() method\n",
        "values = range(0,500,5)\n",
        "nums = pd.Series(values)\n",
        "nums.head(3)"
      ],
      "execution_count": 14,
      "outputs": [
        {
          "output_type": "execute_result",
          "data": {
            "text/plain": [
              "0     0\n",
              "1     5\n",
              "2    10\n",
              "dtype: int64"
            ]
          },
          "metadata": {},
          "execution_count": 14
        }
      ]
    },
    {
      "cell_type": "code",
      "metadata": {
        "colab": {
          "base_uri": "https://localhost:8080/"
        },
        "id": "zXtDwlFsEnAs",
        "outputId": "5fc95740-2ade-4668-ec82-6406b9bc9bc7"
      },
      "source": [
        "#To get Last rows we use .tail() method\n",
        "nums.tail(3)"
      ],
      "execution_count": 15,
      "outputs": [
        {
          "output_type": "execute_result",
          "data": {
            "text/plain": [
              "97    485\n",
              "98    490\n",
              "99    495\n",
              "dtype: int64"
            ]
          },
          "metadata": {},
          "execution_count": 15
        }
      ]
    },
    {
      "cell_type": "markdown",
      "metadata": {
        "id": "7AOiAmpR1LeH"
      },
      "source": [
        "<h3>Mathematical Operations"
      ]
    },
    {
      "cell_type": "code",
      "metadata": {
        "id": "wzrAdTLc1fke",
        "colab": {
          "base_uri": "https://localhost:8080/"
        },
        "outputId": "d2f2bf94-61a0-4588-e04e-58bd23cb41c5"
      },
      "source": [
        "#There are many different methods for mathematical operations\n",
        "numbers = range(1,11)\n",
        "nums = pd.Series(numbers)\n",
        "nums"
      ],
      "execution_count": 16,
      "outputs": [
        {
          "output_type": "execute_result",
          "data": {
            "text/plain": [
              "0     1\n",
              "1     2\n",
              "2     3\n",
              "3     4\n",
              "4     5\n",
              "5     6\n",
              "6     7\n",
              "7     8\n",
              "8     9\n",
              "9    10\n",
              "dtype: int64"
            ]
          },
          "metadata": {},
          "execution_count": 16
        }
      ]
    },
    {
      "cell_type": "code",
      "metadata": {
        "colab": {
          "base_uri": "https://localhost:8080/"
        },
        "id": "RTFGAWq2HJa9",
        "outputId": "245d3d3d-6629-4697-93de-b44f8b8ecc37"
      },
      "source": [
        "#can get the sum of all  the numbers \n",
        "nums.sum()"
      ],
      "execution_count": 17,
      "outputs": [
        {
          "output_type": "execute_result",
          "data": {
            "text/plain": [
              "55"
            ]
          },
          "metadata": {},
          "execution_count": 17
        }
      ]
    },
    {
      "cell_type": "code",
      "metadata": {
        "colab": {
          "base_uri": "https://localhost:8080/"
        },
        "id": "omzuY_NtHSU3",
        "outputId": "967becec-34ed-450d-f209-26cf53fc714f"
      },
      "source": [
        "#the product of all the values\n",
        "nums.product()"
      ],
      "execution_count": 18,
      "outputs": [
        {
          "output_type": "execute_result",
          "data": {
            "text/plain": [
              "3628800"
            ]
          },
          "metadata": {},
          "execution_count": 18
        }
      ]
    },
    {
      "cell_type": "code",
      "metadata": {
        "id": "tZEtaNlJHY9Y"
      },
      "source": [
        "#And the statistics \n",
        "the_mean = nums.mean() #Average\n",
        "the_median = nums.median() #Middle Value\n",
        "the_mode = nums.mode() #repeating value\n",
        "the_std = nums.std() #standard deviation\n",
        "the_max = nums.max() #the maximum value\n",
        "the_min = nums.min() #the min value"
      ],
      "execution_count": 20,
      "outputs": []
    },
    {
      "cell_type": "code",
      "metadata": {
        "colab": {
          "base_uri": "https://localhost:8080/"
        },
        "id": "_jaFEFRErmA0",
        "outputId": "e4b7610c-3c8a-4f51-c0b2-f2c02b8d8575"
      },
      "source": [
        "#or alternatively can use the .describe() method \n",
        "nums.describe()"
      ],
      "execution_count": 21,
      "outputs": [
        {
          "output_type": "execute_result",
          "data": {
            "text/plain": [
              "count    10.00000\n",
              "mean      5.50000\n",
              "std       3.02765\n",
              "min       1.00000\n",
              "25%       3.25000\n",
              "50%       5.50000\n",
              "75%       7.75000\n",
              "max      10.00000\n",
              "dtype: float64"
            ]
          },
          "metadata": {},
          "execution_count": 21
        }
      ]
    },
    {
      "cell_type": "code",
      "metadata": {
        "colab": {
          "base_uri": "https://localhost:8080/"
        },
        "id": "S2iRQYW5rwCc",
        "outputId": "9729e2eb-67e0-4499-fbc7-cd636881f56d"
      },
      "source": [
        "#Can also do a small random sample with .sample(n) method\n",
        "nums.sample(3)"
      ],
      "execution_count": 23,
      "outputs": [
        {
          "output_type": "execute_result",
          "data": {
            "text/plain": [
              "4    5\n",
              "6    7\n",
              "7    8\n",
              "dtype: int64"
            ]
          },
          "metadata": {},
          "execution_count": 23
        }
      ]
    },
    {
      "cell_type": "code",
      "metadata": {
        "colab": {
          "base_uri": "https://localhost:8080/"
        },
        "id": "bwvj66efr_BS",
        "outputId": "852b090c-cf77-43f5-f785-e5b17d210bfc"
      },
      "source": [
        "#The .nunique() method returns number of unique values\n",
        "nums.nunique()"
      ],
      "execution_count": 24,
      "outputs": [
        {
          "output_type": "execute_result",
          "data": {
            "text/plain": [
              "10"
            ]
          },
          "metadata": {},
          "execution_count": 24
        }
      ]
    },
    {
      "cell_type": "markdown",
      "metadata": {
        "id": "-SPbCjLj1Lrw"
      },
      "source": [
        "<h4>Passing the Series to Built-in functions"
      ]
    },
    {
      "cell_type": "code",
      "metadata": {
        "id": "PHg6KEdf1gFC",
        "colab": {
          "base_uri": "https://localhost:8080/"
        },
        "outputId": "4c0c96fb-59e7-48ee-9079-589170244539"
      },
      "source": [
        "#some helpful prebuilt functions modified for pandas include\n",
        "\n",
        "#the 'in' key, which only examines the index and not the values by default\n",
        "sample_group = pd.Series([\"blue\",\"red\",\"black\",\"yellow\",\"white\",\"green\"])\n",
        "\n",
        "\"blue\" in sample_group #Returns false since \"blue\" is a value, not an index\n",
        "\n",
        "\n",
        "indexgroup = [\"boo\",\"foo\",\"boo\",\"foo\",\"boo\",\"foo\"]\n",
        "sample_group = pd.Series([\"blue\",\"red\",\"black\",\"yellow\",\"white\",\"green\"], \n",
        "                         index=indexgroup)\n",
        "\"foo\" in sample_group #returns true since we have it indexed"
      ],
      "execution_count": 31,
      "outputs": [
        {
          "output_type": "execute_result",
          "data": {
            "text/plain": [
              "True"
            ]
          },
          "metadata": {},
          "execution_count": 31
        }
      ]
    },
    {
      "cell_type": "code",
      "metadata": {
        "colab": {
          "base_uri": "https://localhost:8080/"
        },
        "id": "6jbJ0iHYtErJ",
        "outputId": "2126dad3-a091-4d5e-d274-433706a4324e"
      },
      "source": [
        "#To use 'in' on the values you have to attach .values property\n",
        "\n",
        "\"blue\" in  sample_group.values"
      ],
      "execution_count": 32,
      "outputs": [
        {
          "output_type": "execute_result",
          "data": {
            "text/plain": [
              "True"
            ]
          },
          "metadata": {},
          "execution_count": 32
        }
      ]
    }
  ]
}